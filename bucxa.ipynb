{
 "cells": [
  {
   "cell_type": "code",
   "execution_count": null,
   "metadata": {},
   "outputs": [],
   "source": [
    "import requests\n",
    "import pandas as pd\n",
    "import numpy as np\n",
    "from tqdm import tqdm\n",
    "import time\n",
    "import re\n",
    "\n",
    "provinces = {\n",
    "    \"Hà Nội\": (21.0285, 105.8542),\n",
    "    \"Đà Nẵng\": (16.0544, 108.2022),\n",
    "    \"Nha Trang\": (12.2388, 109.1967),\n",
    "    \"TP.HCM\": (10.7769, 106.7009),\n",
    "    \"Cần Thơ\": (10.0452, 105.7469),\n",
    "    \"Bình Thuận\": (11.0904, 108.0721),\n",
    "    \"Ninh Thuận\": (11.7557, 108.8463),\n",
    "    \"Huế\": (16.4637, 107.5909),\n",
    "    \"Hải Phòng\": (20.8449, 106.6881),\n",
    "    \"Điện Biên\": (21.3860, 103.0181),\n",
    "    \"Quảng Ninh\": (21.0064, 107.2925),\n",
    "    \"Đắk Lắk\": (12.7100, 108.2378),\n",
    "}\n",
    "\n",
    "def get_solar_climate_data(lat, lon, start=\"2015\", end=\"2024\"):\n",
    "    url = (\n",
    "        f\"https://power.larc.nasa.gov/api/temporal/monthly/point\"\n",
    "        f\"?parameters=ALLSKY_SFC_SW_DWN,T2M,RH2M,WS2M,PRECTOT\"\n",
    "        f\"&community=AG\"\n",
    "        f\"&longitude={lon}\"\n",
    "        f\"&latitude={lat}\"\n",
    "        f\"&start={start}\"\n",
    "        f\"&end={end}\"\n",
    "        f\"&format=JSON\"\n",
    "    )\n",
    "\n",
    "    response = requests.get(url)\n",
    "    data = response.json()[\"properties\"][\"parameter\"]\n",
    "\n",
    "    params_available = data.keys()\n",
    "\n",
    "    def get_param(param):\n",
    "        return data[param] if param in data else {k: np.nan for k in data[\"T2M\"].keys()}\n",
    "\n",
    "    df = pd.DataFrame({\n",
    "        \"YearMonth\": list(get_param(\"T2M\").keys()),\n",
    "        \"GHI_kWh_m2_day\": list(get_param(\"ALLSKY_SFC_SW_DWN\").values()),\n",
    "        \"T2M\": list(get_param(\"T2M\").values()),\n",
    "        \"RH2M\": list(get_param(\"RH2M\").values()),\n",
    "        \"WS2M\": list(get_param(\"WS2M\").values()),\n",
    "        \"PRECTOT\": list(get_param(\"PRECTOT\").values())\n",
    "    })\n",
    "\n",
    "    def clean_yearmonth(val):\n",
    "        match = re.match(r\"(\\d{4})(\\d{1,2})\", str(val))\n",
    "        if match:\n",
    "            year = match.group(1)\n",
    "            month = match.group(2).zfill(2)\n",
    "            return f\"{year}{month}\"\n",
    "        return np.nan\n",
    "\n",
    "    df[\"YearMonth\"] = df[\"YearMonth\"].apply(clean_yearmonth)\n",
    "    df = df.dropna(subset=[\"YearMonth\"])\n",
    "    df[\"YearMonth\"] = pd.to_datetime(df[\"YearMonth\"], format=\"%Y%m\", errors=\"coerce\")\n",
    "\n",
    "    df[\"Year\"] = df[\"YearMonth\"].dt.year\n",
    "    df[\"Month\"] = df[\"YearMonth\"].dt.month\n",
    "    df[\"Lat\"] = lat\n",
    "    df[\"Lon\"] = lon\n",
    "\n",
    "    return df\n",
    "\n",
    "\n",
    "all_data = []\n",
    "for name, (lat, lon) in tqdm(provinces.items(), desc=\"Collecting data from NASA\"):\n",
    "    try:\n",
    "        df = get_solar_climate_data(lat, lon)\n",
    "        df[\"Province\"] = name\n",
    "        all_data.append(df)\n",
    "        time.sleep(2)\n",
    "    except Exception as e:\n",
    "        print(f\"Error fetching data for {name}: {e}\")\n",
    "\n",
    "solar_df = pd.concat(all_data, ignore_index=True)\n",
    "\n",
    "cols_to_float = [\"GHI_kWh_m2_day\", \"T2M\", \"RH2M\", \"WS2M\", \"PRECTOT\"]\n",
    "solar_df[cols_to_float] = solar_df[cols_to_float].apply(pd.to_numeric, errors=\"coerce\")\n",
    "solar_df.fillna(solar_df.mean(numeric_only=True), inplace=True)\n",
    "\n",
    "solar_df[\"GHI_Annual_kWh_m2_year\"] = solar_df[\"GHI_kWh_m2_day\"] * 365\n",
    "\n",
    "annual_summary = (\n",
    "    solar_df.groupby([\"Province\", \"Year\"])\n",
    "    .agg({\n",
    "        \"GHI_kWh_m2_day\": \"mean\",\n",
    "        \"GHI_Annual_kWh_m2_year\": \"mean\",\n",
    "        \"T2M\": \"mean\",\n",
    "        \"RH2M\": \"mean\",\n",
    "        \"WS2M\": \"mean\",\n",
    "        \"PRECTOT\": \"mean\"\n",
    "    })\n",
    "    .reset_index()\n",
    ")\n",
    "\n",
    "solar_df.to_csv(\"solar_monthly_vietnam_full.csv\", index=False, encoding=\"utf-8-sig\")\n",
    "annual_summary.to_csv(\"solar_annual_vietnam_full.csv\", index=False, encoding=\"utf-8-sig\")\n",
    "\n",
    "print(\"Climate and energy data successfully collected!\")\n",
    "print(\"Files: solar_monthly_vietnam_full.csv and solar_annual_vietnam_full.csv\")\n"
   ]
  },
  {
   "cell_type": "code",
   "execution_count": null,
   "metadata": {},
   "outputs": [
    {
     "data": {
      "application/vnd.plotly.v1+json": {
       "config": {
        "plotlyServerURL": "https://plot.ly"
       },
       "data": [
        {
         "bingroup": "x",
         "hovertemplate": "Province=Bình Thuận<br>Average Irradiance (kWh/m²/day)=%{x}<br>count=%{y}<extra></extra>",
         "legendgroup": "Bình Thuận",
         "marker": {
          "color": "#636efa",
          "pattern": {
           "shape": ""
          }
         },
         "name": "Bình Thuận",
         "nbinsx": 20,
         "orientation": "v",
         "showlegend": true,
         "type": "histogram",
         "x": {
          "bdata": "GEt+seRHNEA20GkDndYyQJJfLPnFQjJA16NwPQrHMkA9CtejcM0zQARWDi2y/TJAw/UoXI8iM0CF61G4HuUyQHE9CtejcDJAAAAAAADQMkDhehSuR9EyQA==",
          "dtype": "f8"
         },
         "xaxis": "x",
         "yaxis": "y"
        },
        {
         "bingroup": "x",
         "hovertemplate": "Province=Cần Thơ<br>Average Irradiance (kWh/m²/day)=%{x}<br>count=%{y}<extra></extra>",
         "legendgroup": "Cần Thơ",
         "marker": {
          "color": "#EF553B",
          "pattern": {
           "shape": ""
          }
         },
         "name": "Cần Thơ",
         "nbinsx": 20,
         "orientation": "v",
         "showlegend": true,
         "type": "histogram",
         "x": {
          "bdata": "jCW/WPIrM0De3d3d3V0yQGyg0wY6DTJAAp020GkjMkB02kCnDdQyQB1aZDvfTzJADXTaQKetMkAwlvxiyQ8yQBERERERwTFAJb9Y8ovlMUC7u7u7u0syQA==",
          "dtype": "f8"
         },
         "xaxis": "x",
         "yaxis": "y"
        },
        {
         "bingroup": "x",
         "hovertemplate": "Province=Huế<br>Average Irradiance (kWh/m²/day)=%{x}<br>count=%{y}<extra></extra>",
         "legendgroup": "Huế",
         "marker": {
          "color": "#00cc96",
          "pattern": {
           "shape": ""
          }
         },
         "name": "Huế",
         "nbinsx": 20,
         "orientation": "v",
         "showlegend": true,
         "type": "histogram",
         "x": {
          "bdata": "IiIiIiKSMECkcD0K10MtQMP1KFyPAi1ARERERESELkCuR+F6FE4wQLKd76fGyy5AyS+W/GJpL0D3KFyPwlUvQKDTBjptoC1AG+i0gU67LkCeNtBpA10uQA==",
          "dtype": "f8"
         },
         "xaxis": "x",
         "yaxis": "y"
        },
        {
         "bingroup": "x",
         "hovertemplate": "Province=Hà Nội<br>Average Irradiance (kWh/m²/day)=%{x}<br>count=%{y}<extra></extra>",
         "legendgroup": "Hà Nội",
         "marker": {
          "color": "#ab63fa",
          "pattern": {
           "shape": ""
          }
         },
         "name": "Hà Nội",
         "nbinsx": 20,
         "orientation": "v",
         "showlegend": true,
         "type": "histogram",
         "x": {
          "bdata": "1AY6baCzK0A8baDTBvorQM3MzMzMTClABJ020GljKkAlv1jyiwUrQNrO91Pj5SpAEBERERFxKkCPwvUoXG8rQIiIiIiISCpABzptoNMGLEBZ8oslvxgqQA==",
          "dtype": "f8"
         },
         "xaxis": "x",
         "yaxis": "y"
        },
        {
         "bingroup": "x",
         "hovertemplate": "Province=Hải Phòng<br>Average Irradiance (kWh/m²/day)=%{x}<br>count=%{y}<extra></extra>",
         "legendgroup": "Hải Phòng",
         "marker": {
          "color": "#FFA15A",
          "pattern": {
           "shape": ""
          }
         },
         "name": "Hải Phòng",
         "nbinsx": 20,
         "orientation": "v",
         "showlegend": true,
         "type": "histogram",
         "x": {
          "bdata": "r0fhehRuLEC0gU4b6PQrQNBpA502cCpA5RdLfrHEK0CIiIiIiEgsQFYOLbKd7ytAwVjyiyX/K0CF61G4HuUsQHE9CtejECxAtIFOG+hULECF61G4HuUqQA==",
          "dtype": "f8"
         },
         "xaxis": "x",
         "yaxis": "y"
        },
        {
         "bingroup": "x",
         "hovertemplate": "Province=Nha Trang<br>Average Irradiance (kWh/m²/day)=%{x}<br>count=%{y}<extra></extra>",
         "legendgroup": "Nha Trang",
         "marker": {
          "color": "#19d3f3",
          "pattern": {
           "shape": ""
          }
         },
         "name": "Nha Trang",
         "nbinsx": 20,
         "orientation": "v",
         "showlegend": true,
         "type": "histogram",
         "x": {
          "bdata": "rkfhehTOM0AYS36x5IcyQDMzMzMzwzFARERERERkMkC1gU4b6IQzQCGwcmiRjTJA16NwPQrnMkAAAAAAADAyQPOLJb9YsjFAH4XrUbiOMkBLfrHkFzsyQA==",
          "dtype": "f8"
         },
         "xaxis": "x",
         "yaxis": "y"
        },
        {
         "bingroup": "x",
         "hovertemplate": "Province=Ninh Thuận<br>Average Irradiance (kWh/m²/day)=%{x}<br>count=%{y}<extra></extra>",
         "legendgroup": "Ninh Thuận",
         "marker": {
          "color": "#FF6692",
          "pattern": {
           "shape": ""
          }
         },
         "name": "Ninh Thuận",
         "nbinsx": 20,
         "orientation": "v",
         "showlegend": true,
         "type": "histogram",
         "x": {
          "bdata": "GEt+seRHNEA20GkDndYyQJJfLPnFQjJA16NwPQrHMkA9CtejcM0zQARWDi2y/TJAw/UoXI8iM0CF61G4HuUyQHE9CtejcDJAAAAAAADQMkDhehSuR9EyQA==",
          "dtype": "f8"
         },
         "xaxis": "x",
         "yaxis": "y"
        },
        {
         "bingroup": "x",
         "hovertemplate": "Province=Quảng Ninh<br>Average Irradiance (kWh/m²/day)=%{x}<br>count=%{y}<extra></extra>",
         "legendgroup": "Quảng Ninh",
         "marker": {
          "color": "#B6E880",
          "pattern": {
           "shape": ""
          }
         },
         "name": "Quảng Ninh",
         "nbinsx": 20,
         "orientation": "v",
         "showlegend": true,
         "type": "histogram",
         "x": {
          "bdata": "iIiIiIhIKkD2KFyPwhUrQHXaQKcNFClA8O7u7u4OKkCg0wY6bcApQJhuEoPASipATxvotIFOKkBI4XoUrkcrQFyPwvUo/CpAgU4b6LRhKkDw7u7u7m4pQA==",
          "dtype": "f8"
         },
         "xaxis": "x",
         "yaxis": "y"
        },
        {
         "bingroup": "x",
         "hovertemplate": "Province=TP.HCM<br>Average Irradiance (kWh/m²/day)=%{x}<br>count=%{y}<extra></extra>",
         "legendgroup": "TP.HCM",
         "marker": {
          "color": "#FF97FF",
          "pattern": {
           "shape": ""
          }
         },
         "name": "TP.HCM",
         "nbinsx": 20,
         "orientation": "v",
         "showlegend": true,
         "type": "histogram",
         "x": {
          "bdata": "VFVVVVXFM0A9CtejcJ0yQAc6baDTFjJAG+i0gU57MkCV/GLJL/YyQKAaL90khjJAexSuR+HKMkAUrkfhemQyQKHTBjpt8DFAf7HkF0sOMkD9YskvlkwyQA==",
          "dtype": "f8"
         },
         "xaxis": "x",
         "yaxis": "y"
        },
        {
         "bingroup": "x",
         "hovertemplate": "Province=Điện Biên<br>Average Irradiance (kWh/m²/day)=%{x}<br>count=%{y}<extra></extra>",
         "legendgroup": "Điện Biên",
         "marker": {
          "color": "#FECB52",
          "pattern": {
           "shape": ""
          }
         },
         "name": "Điện Biên",
         "nbinsx": 20,
         "orientation": "v",
         "showlegend": true,
         "type": "histogram",
         "x": {
          "bdata": "YCz5xZJfL0BMfrHkF4svQDltoNMGWi1Aw/UoXI+iLUBI4XoUrocwQFg5tMh2vi5AqA102kAHL0DQaQOdNnAuQNBpA502cC1AIyIiIiKCL0DziyW/WBIuQA==",
          "dtype": "f8"
         },
         "xaxis": "x",
         "yaxis": "y"
        },
        {
         "bingroup": "x",
         "hovertemplate": "Province=Đà Nẵng<br>Average Irradiance (kWh/m²/day)=%{x}<br>count=%{y}<extra></extra>",
         "legendgroup": "Đà Nẵng",
         "marker": {
          "color": "#636efa",
          "pattern": {
           "shape": ""
          }
         },
         "name": "Đà Nẵng",
         "nbinsx": 20,
         "orientation": "v",
         "showlegend": true,
         "type": "histogram",
         "x": {
          "bdata": "3t3d3d19MkBI4XoUrscwQI/C9ShczzBAGEt+seSHMUCMJb9Y8osyQC2yne+nhjFAUrgeheuxMUAYS36x5NcxQGdmZmZmxjBAyS+W/GJpMUDyiyW/WGIxQA==",
          "dtype": "f8"
         },
         "xaxis": "x",
         "yaxis": "y"
        },
        {
         "bingroup": "x",
         "hovertemplate": "Province=Đắk Lắk<br>Average Irradiance (kWh/m²/day)=%{x}<br>count=%{y}<extra></extra>",
         "legendgroup": "Đắk Lắk",
         "marker": {
          "color": "#EF553B",
          "pattern": {
           "shape": ""
          }
         },
         "name": "Đắk Lắk",
         "nbinsx": 20,
         "orientation": "v",
         "showlegend": true,
         "type": "histogram",
         "x": {
          "bdata": "u7u7u7uLMkCW/GLJL1YxQGZmZmZmljBAPQrXo3BdMUB/seQXS14yQGDl0CLbWTFAw/UoXI/iMUBI4XoUrhcxQIFOG+i0kTBARERERESkMEC8u7u7uzsxQA==",
          "dtype": "f8"
         },
         "xaxis": "x",
         "yaxis": "y"
        }
       ],
       "layout": {
        "annotations": [
         {
          "align": "left",
          "font": {
           "size": 12
          },
          "showarrow": false,
          "text": "Note:\n- X-axis: Average daily solar energy level (kWh/m²/day).\n",
          "x": 0,
          "xref": "paper",
          "y": -0.25,
          "yref": "paper"
         }
        ],
        "barmode": "relative",
        "legend": {
         "title": {
          "text": "Province"
         },
         "tracegroupgap": 0
        },
        "template": {
         "data": {
          "bar": [
           {
            "error_x": {
             "color": "#2a3f5f"
            },
            "error_y": {
             "color": "#2a3f5f"
            },
            "marker": {
             "line": {
              "color": "white",
              "width": 0.5
             },
             "pattern": {
              "fillmode": "overlay",
              "size": 10,
              "solidity": 0.2
             }
            },
            "type": "bar"
           }
          ],
          "barpolar": [
           {
            "marker": {
             "line": {
              "color": "white",
              "width": 0.5
             },
             "pattern": {
              "fillmode": "overlay",
              "size": 10,
              "solidity": 0.2
             }
            },
            "type": "barpolar"
           }
          ],
          "carpet": [
           {
            "aaxis": {
             "endlinecolor": "#2a3f5f",
             "gridcolor": "#C8D4E3",
             "linecolor": "#C8D4E3",
             "minorgridcolor": "#C8D4E3",
             "startlinecolor": "#2a3f5f"
            },
            "baxis": {
             "endlinecolor": "#2a3f5f",
             "gridcolor": "#C8D4E3",
             "linecolor": "#C8D4E3",
             "minorgridcolor": "#C8D4E3",
             "startlinecolor": "#2a3f5f"
            },
            "type": "carpet"
           }
          ],
          "choropleth": [
           {
            "colorbar": {
             "outlinewidth": 0,
             "ticks": ""
            },
            "type": "choropleth"
           }
          ],
          "contour": [
           {
            "colorbar": {
             "outlinewidth": 0,
             "ticks": ""
            },
            "colorscale": [
             [
              0,
              "#0d0887"
             ],
             [
              0.1111111111111111,
              "#46039f"
             ],
             [
              0.2222222222222222,
              "#7201a8"
             ],
             [
              0.3333333333333333,
              "#9c179e"
             ],
             [
              0.4444444444444444,
              "#bd3786"
             ],
             [
              0.5555555555555556,
              "#d8576b"
             ],
             [
              0.6666666666666666,
              "#ed7953"
             ],
             [
              0.7777777777777778,
              "#fb9f3a"
             ],
             [
              0.8888888888888888,
              "#fdca26"
             ],
             [
              1,
              "#f0f921"
             ]
            ],
            "type": "contour"
           }
          ],
          "contourcarpet": [
           {
            "colorbar": {
             "outlinewidth": 0,
             "ticks": ""
            },
            "type": "contourcarpet"
           }
          ],
          "heatmap": [
           {
            "colorbar": {
             "outlinewidth": 0,
             "ticks": ""
            },
            "colorscale": [
             [
              0,
              "#0d0887"
             ],
             [
              0.1111111111111111,
              "#46039f"
             ],
             [
              0.2222222222222222,
              "#7201a8"
             ],
             [
              0.3333333333333333,
              "#9c179e"
             ],
             [
              0.4444444444444444,
              "#bd3786"
             ],
             [
              0.5555555555555556,
              "#d8576b"
             ],
             [
              0.6666666666666666,
              "#ed7953"
             ],
             [
              0.7777777777777778,
              "#fb9f3a"
             ],
             [
              0.8888888888888888,
              "#fdca26"
             ],
             [
              1,
              "#f0f921"
             ]
            ],
            "type": "heatmap"
           }
          ],
          "histogram": [
           {
            "marker": {
             "pattern": {
              "fillmode": "overlay",
              "size": 10,
              "solidity": 0.2
             }
            },
            "type": "histogram"
           }
          ],
          "histogram2d": [
           {
            "colorbar": {
             "outlinewidth": 0,
             "ticks": ""
            },
            "colorscale": [
             [
              0,
              "#0d0887"
             ],
             [
              0.1111111111111111,
              "#46039f"
             ],
             [
              0.2222222222222222,
              "#7201a8"
             ],
             [
              0.3333333333333333,
              "#9c179e"
             ],
             [
              0.4444444444444444,
              "#bd3786"
             ],
             [
              0.5555555555555556,
              "#d8576b"
             ],
             [
              0.6666666666666666,
              "#ed7953"
             ],
             [
              0.7777777777777778,
              "#fb9f3a"
             ],
             [
              0.8888888888888888,
              "#fdca26"
             ],
             [
              1,
              "#f0f921"
             ]
            ],
            "type": "histogram2d"
           }
          ],
          "histogram2dcontour": [
           {
            "colorbar": {
             "outlinewidth": 0,
             "ticks": ""
            },
            "colorscale": [
             [
              0,
              "#0d0887"
             ],
             [
              0.1111111111111111,
              "#46039f"
             ],
             [
              0.2222222222222222,
              "#7201a8"
             ],
             [
              0.3333333333333333,
              "#9c179e"
             ],
             [
              0.4444444444444444,
              "#bd3786"
             ],
             [
              0.5555555555555556,
              "#d8576b"
             ],
             [
              0.6666666666666666,
              "#ed7953"
             ],
             [
              0.7777777777777778,
              "#fb9f3a"
             ],
             [
              0.8888888888888888,
              "#fdca26"
             ],
             [
              1,
              "#f0f921"
             ]
            ],
            "type": "histogram2dcontour"
           }
          ],
          "mesh3d": [
           {
            "colorbar": {
             "outlinewidth": 0,
             "ticks": ""
            },
            "type": "mesh3d"
           }
          ],
          "parcoords": [
           {
            "line": {
             "colorbar": {
              "outlinewidth": 0,
              "ticks": ""
             }
            },
            "type": "parcoords"
           }
          ],
          "pie": [
           {
            "automargin": true,
            "type": "pie"
           }
          ],
          "scatter": [
           {
            "fillpattern": {
             "fillmode": "overlay",
             "size": 10,
             "solidity": 0.2
            },
            "type": "scatter"
           }
          ],
          "scatter3d": [
           {
            "line": {
             "colorbar": {
              "outlinewidth": 0,
              "ticks": ""
             }
            },
            "marker": {
             "colorbar": {
              "outlinewidth": 0,
              "ticks": ""
             }
            },
            "type": "scatter3d"
           }
          ],
          "scattercarpet": [
           {
            "marker": {
             "colorbar": {
              "outlinewidth": 0,
              "ticks": ""
             }
            },
            "type": "scattercarpet"
           }
          ],
          "scattergeo": [
           {
            "marker": {
             "colorbar": {
              "outlinewidth": 0,
              "ticks": ""
             }
            },
            "type": "scattergeo"
           }
          ],
          "scattergl": [
           {
            "marker": {
             "colorbar": {
              "outlinewidth": 0,
              "ticks": ""
             }
            },
            "type": "scattergl"
           }
          ],
          "scattermap": [
           {
            "marker": {
             "colorbar": {
              "outlinewidth": 0,
              "ticks": ""
             }
            },
            "type": "scattermap"
           }
          ],
          "scattermapbox": [
           {
            "marker": {
             "colorbar": {
              "outlinewidth": 0,
              "ticks": ""
             }
            },
            "type": "scattermapbox"
           }
          ],
          "scatterpolar": [
           {
            "marker": {
             "colorbar": {
              "outlinewidth": 0,
              "ticks": ""
             }
            },
            "type": "scatterpolar"
           }
          ],
          "scatterpolargl": [
           {
            "marker": {
             "colorbar": {
              "outlinewidth": 0,
              "ticks": ""
             }
            },
            "type": "scatterpolargl"
           }
          ],
          "scatterternary": [
           {
            "marker": {
             "colorbar": {
              "outlinewidth": 0,
              "ticks": ""
             }
            },
            "type": "scatterternary"
           }
          ],
          "surface": [
           {
            "colorbar": {
             "outlinewidth": 0,
             "ticks": ""
            },
            "colorscale": [
             [
              0,
              "#0d0887"
             ],
             [
              0.1111111111111111,
              "#46039f"
             ],
             [
              0.2222222222222222,
              "#7201a8"
             ],
             [
              0.3333333333333333,
              "#9c179e"
             ],
             [
              0.4444444444444444,
              "#bd3786"
             ],
             [
              0.5555555555555556,
              "#d8576b"
             ],
             [
              0.6666666666666666,
              "#ed7953"
             ],
             [
              0.7777777777777778,
              "#fb9f3a"
             ],
             [
              0.8888888888888888,
              "#fdca26"
             ],
             [
              1,
              "#f0f921"
             ]
            ],
            "type": "surface"
           }
          ],
          "table": [
           {
            "cells": {
             "fill": {
              "color": "#EBF0F8"
             },
             "line": {
              "color": "white"
             }
            },
            "header": {
             "fill": {
              "color": "#C8D4E3"
             },
             "line": {
              "color": "white"
             }
            },
            "type": "table"
           }
          ]
         },
         "layout": {
          "annotationdefaults": {
           "arrowcolor": "#2a3f5f",
           "arrowhead": 0,
           "arrowwidth": 1
          },
          "autotypenumbers": "strict",
          "coloraxis": {
           "colorbar": {
            "outlinewidth": 0,
            "ticks": ""
           }
          },
          "colorscale": {
           "diverging": [
            [
             0,
             "#8e0152"
            ],
            [
             0.1,
             "#c51b7d"
            ],
            [
             0.2,
             "#de77ae"
            ],
            [
             0.3,
             "#f1b6da"
            ],
            [
             0.4,
             "#fde0ef"
            ],
            [
             0.5,
             "#f7f7f7"
            ],
            [
             0.6,
             "#e6f5d0"
            ],
            [
             0.7,
             "#b8e186"
            ],
            [
             0.8,
             "#7fbc41"
            ],
            [
             0.9,
             "#4d9221"
            ],
            [
             1,
             "#276419"
            ]
           ],
           "sequential": [
            [
             0,
             "#0d0887"
            ],
            [
             0.1111111111111111,
             "#46039f"
            ],
            [
             0.2222222222222222,
             "#7201a8"
            ],
            [
             0.3333333333333333,
             "#9c179e"
            ],
            [
             0.4444444444444444,
             "#bd3786"
            ],
            [
             0.5555555555555556,
             "#d8576b"
            ],
            [
             0.6666666666666666,
             "#ed7953"
            ],
            [
             0.7777777777777778,
             "#fb9f3a"
            ],
            [
             0.8888888888888888,
             "#fdca26"
            ],
            [
             1,
             "#f0f921"
            ]
           ],
           "sequentialminus": [
            [
             0,
             "#0d0887"
            ],
            [
             0.1111111111111111,
             "#46039f"
            ],
            [
             0.2222222222222222,
             "#7201a8"
            ],
            [
             0.3333333333333333,
             "#9c179e"
            ],
            [
             0.4444444444444444,
             "#bd3786"
            ],
            [
             0.5555555555555556,
             "#d8576b"
            ],
            [
             0.6666666666666666,
             "#ed7953"
            ],
            [
             0.7777777777777778,
             "#fb9f3a"
            ],
            [
             0.8888888888888888,
             "#fdca26"
            ],
            [
             1,
             "#f0f921"
            ]
           ]
          },
          "colorway": [
           "#636efa",
           "#EF553B",
           "#00cc96",
           "#ab63fa",
           "#FFA15A",
           "#19d3f3",
           "#FF6692",
           "#B6E880",
           "#FF97FF",
           "#FECB52"
          ],
          "font": {
           "color": "#2a3f5f"
          },
          "geo": {
           "bgcolor": "white",
           "lakecolor": "white",
           "landcolor": "white",
           "showlakes": true,
           "showland": true,
           "subunitcolor": "#C8D4E3"
          },
          "hoverlabel": {
           "align": "left"
          },
          "hovermode": "closest",
          "mapbox": {
           "style": "light"
          },
          "paper_bgcolor": "white",
          "plot_bgcolor": "white",
          "polar": {
           "angularaxis": {
            "gridcolor": "#EBF0F8",
            "linecolor": "#EBF0F8",
            "ticks": ""
           },
           "bgcolor": "white",
           "radialaxis": {
            "gridcolor": "#EBF0F8",
            "linecolor": "#EBF0F8",
            "ticks": ""
           }
          },
          "scene": {
           "xaxis": {
            "backgroundcolor": "white",
            "gridcolor": "#DFE8F3",
            "gridwidth": 2,
            "linecolor": "#EBF0F8",
            "showbackground": true,
            "ticks": "",
            "zerolinecolor": "#EBF0F8"
           },
           "yaxis": {
            "backgroundcolor": "white",
            "gridcolor": "#DFE8F3",
            "gridwidth": 2,
            "linecolor": "#EBF0F8",
            "showbackground": true,
            "ticks": "",
            "zerolinecolor": "#EBF0F8"
           },
           "zaxis": {
            "backgroundcolor": "white",
            "gridcolor": "#DFE8F3",
            "gridwidth": 2,
            "linecolor": "#EBF0F8",
            "showbackground": true,
            "ticks": "",
            "zerolinecolor": "#EBF0F8"
           }
          },
          "shapedefaults": {
           "line": {
            "color": "#2a3f5f"
           }
          },
          "ternary": {
           "aaxis": {
            "gridcolor": "#DFE8F3",
            "linecolor": "#A2B1C6",
            "ticks": ""
           },
           "baxis": {
            "gridcolor": "#DFE8F3",
            "linecolor": "#A2B1C6",
            "ticks": ""
           },
           "bgcolor": "white",
           "caxis": {
            "gridcolor": "#DFE8F3",
            "linecolor": "#A2B1C6",
            "ticks": ""
           }
          },
          "title": {
           "x": 0.05
          },
          "xaxis": {
           "automargin": true,
           "gridcolor": "#EBF0F8",
           "linecolor": "#EBF0F8",
           "ticks": "",
           "title": {
            "standoff": 15
           },
           "zerolinecolor": "#EBF0F8",
           "zerolinewidth": 2
          },
          "yaxis": {
           "automargin": true,
           "gridcolor": "#EBF0F8",
           "linecolor": "#EBF0F8",
           "ticks": "",
           "title": {
            "standoff": 15
           },
           "zerolinecolor": "#EBF0F8",
           "zerolinewidth": 2
          }
         }
        },
        "title": {
         "text": "Distribution of Average Solar Irradiance Among Vietnam Provinces (2015-2024)",
         "x": 0.5
        },
        "xaxis": {
         "anchor": "y",
         "domain": [
          0,
          1
         ],
         "title": {
          "text": "Average Solar Irradiance Level (kWh/m²/day)"
         }
        },
        "yaxis": {
         "anchor": "x",
         "domain": [
          0,
          1
         ],
         "title": {
          "text": "Number of Months in Period 2015-2024"
         }
        }
       }
      }
     },
     "metadata": {},
     "output_type": "display_data"
    }
   ],
   "source": [
    "import pandas as pd\n",
    "import plotly.express as px\n",
    "\n",
    "df = pd.read_csv(\"solar_annual_vietnam_full.csv\")\n",
    "\n",
    "df = df.rename(columns={\n",
    "    \"Province\": \"Province\",\n",
    "    \"GHI_kWh_m2_day\": \"Average Irradiance (kWh/m²/day)\",\n",
    "    \"GHI_Annual_kWh_m2_year\": \"Annual Total Energy (kWh/m²/year)\"\n",
    "})\n",
    "\n",
    "fig = px.histogram(\n",
    "    df,\n",
    "    x=\"Average Irradiance (kWh/m²/day)\",\n",
    "    color=\"Province\",\n",
    "    nbins=20,\n",
    "    hover_data=[\"Year\"],\n",
    "    title=\"Distribution of Average Solar Irradiance Among Vietnam Provinces (2015-2024)\"\n",
    ")\n",
    "\n",
    "fig.update_layout(\n",
    "    xaxis_title=\"Average Solar Irradiance Level (kWh/m²/day)\",\n",
    "    yaxis_title=\"Number of Months in Period 2015-2024\",\n",
    "    legend_title_text=\"Province\",\n",
    "    template=\"plotly_white\",\n",
    "    title_x=0.5,\n",
    ")\n",
    "\n",
    "fig.add_annotation(\n",
    "    text=(\n",
    "        \"Note:\\n\"\n",
    "        \"- X-axis: Average daily solar energy level (kWh/m²/day).\\n\"\n",
    "    ),\n",
    "    xref=\"paper\", yref=\"paper\",\n",
    "    x=0, y=-0.25, showarrow=False,\n",
    "    font=dict(size=12),\n",
    "    align=\"left\"\n",
    ")\n",
    "\n",
    "fig.show()\n"
   ]
  },
  {
   "cell_type": "code",
   "execution_count": null,
   "metadata": {},
   "outputs": [
    {
     "data": {
      "application/vnd.plotly.v1+json": {
       "config": {
        "plotlyServerURL": "https://plot.ly"
       },
       "data": [
        {
         "customdata": [
          [
           "Bình Thuận"
          ],
          [
           "Bình Thuận"
          ],
          [
           "Bình Thuận"
          ],
          [
           "Bình Thuận"
          ],
          [
           "Bình Thuận"
          ],
          [
           "Bình Thuận"
          ],
          [
           "Bình Thuận"
          ],
          [
           "Bình Thuận"
          ],
          [
           "Bình Thuận"
          ],
          [
           "Bình Thuận"
          ],
          [
           "Bình Thuận"
          ]
         ],
         "hovertemplate": "Province=%{customdata[0]}<br>Year=%{x}<br>GHI_kWh_m2_day=%{y:.2f}<extra></extra>",
         "legendgroup": "Bình Thuận",
         "line": {
          "color": "#636efa",
          "dash": "solid"
         },
         "marker": {
          "symbol": "circle"
         },
         "mode": "lines+markers",
         "name": "Bình Thuận",
         "orientation": "v",
         "showlegend": true,
         "type": "scatter",
         "x": {
          "bdata": "3wfgB+EH4gfjB+MH5AflB+YH5wfoBw==",
          "dtype": "i2"
         },
         "xaxis": "x",
         "y": {
          "bdata": "GEt+seRHNEA20GkDndYyQJJfLPnFQjJA16NwPQrHMkA9CtejcM0zQARWDi2y/TJAw/UoXI8iM0CF61G4HuUyQHE9CtejcDJAAAAAAADQMkDhehSuR9EyQA==",
          "dtype": "f8"
         },
         "yaxis": "y"
        },
        {
         "customdata": [
          [
           "Cần Thơ"
          ],
          [
           "Cần Thơ"
          ],
          [
           "Cần Thơ"
          ],
          [
           "Cần Thơ"
          ],
          [
           "Cần Thơ"
          ],
          [
           "Cần Thơ"
          ],
          [
           "Cần Thơ"
          ],
          [
           "Cần Thơ"
          ],
          [
           "Cần Thơ"
          ],
          [
           "Cần Thơ"
          ],
          [
           "Cần Thơ"
          ]
         ],
         "hovertemplate": "Province=%{customdata[0]}<br>Year=%{x}<br>GHI_kWh_m2_day=%{y:.2f}<extra></extra>",
         "legendgroup": "Cần Thơ",
         "line": {
          "color": "#EF553B",
          "dash": "solid"
         },
         "marker": {
          "symbol": "circle"
         },
         "mode": "lines+markers",
         "name": "Cần Thơ",
         "orientation": "v",
         "showlegend": true,
         "type": "scatter",
         "x": {
          "bdata": "3wfgB+EH4gfjB+MH5AflB+YH5wfoBw==",
          "dtype": "i2"
         },
         "xaxis": "x",
         "y": {
          "bdata": "jCW/WPIrM0De3d3d3V0yQGyg0wY6DTJAAp020GkjMkB02kCnDdQyQB1aZDvfTzJADXTaQKetMkAwlvxiyQ8yQBERERERwTFAJb9Y8ovlMUC7u7u7u0syQA==",
          "dtype": "f8"
         },
         "yaxis": "y"
        },
        {
         "customdata": [
          [
           "Huế"
          ],
          [
           "Huế"
          ],
          [
           "Huế"
          ],
          [
           "Huế"
          ],
          [
           "Huế"
          ],
          [
           "Huế"
          ],
          [
           "Huế"
          ],
          [
           "Huế"
          ],
          [
           "Huế"
          ],
          [
           "Huế"
          ],
          [
           "Huế"
          ]
         ],
         "hovertemplate": "Province=%{customdata[0]}<br>Year=%{x}<br>GHI_kWh_m2_day=%{y:.2f}<extra></extra>",
         "legendgroup": "Huế",
         "line": {
          "color": "#00cc96",
          "dash": "solid"
         },
         "marker": {
          "symbol": "circle"
         },
         "mode": "lines+markers",
         "name": "Huế",
         "orientation": "v",
         "showlegend": true,
         "type": "scatter",
         "x": {
          "bdata": "3wfgB+EH4gfjB+MH5AflB+YH5wfoBw==",
          "dtype": "i2"
         },
         "xaxis": "x",
         "y": {
          "bdata": "IiIiIiKSMECkcD0K10MtQMP1KFyPAi1ARERERESELkCuR+F6FE4wQLKd76fGyy5AyS+W/GJpL0D3KFyPwlUvQKDTBjptoC1AG+i0gU67LkCeNtBpA10uQA==",
          "dtype": "f8"
         },
         "yaxis": "y"
        },
        {
         "customdata": [
          [
           "Hà Nội"
          ],
          [
           "Hà Nội"
          ],
          [
           "Hà Nội"
          ],
          [
           "Hà Nội"
          ],
          [
           "Hà Nội"
          ],
          [
           "Hà Nội"
          ],
          [
           "Hà Nội"
          ],
          [
           "Hà Nội"
          ],
          [
           "Hà Nội"
          ],
          [
           "Hà Nội"
          ],
          [
           "Hà Nội"
          ]
         ],
         "hovertemplate": "Province=%{customdata[0]}<br>Year=%{x}<br>GHI_kWh_m2_day=%{y:.2f}<extra></extra>",
         "legendgroup": "Hà Nội",
         "line": {
          "color": "#ab63fa",
          "dash": "solid"
         },
         "marker": {
          "symbol": "circle"
         },
         "mode": "lines+markers",
         "name": "Hà Nội",
         "orientation": "v",
         "showlegend": true,
         "type": "scatter",
         "x": {
          "bdata": "3wfgB+EH4gfjB+MH5AflB+YH5wfoBw==",
          "dtype": "i2"
         },
         "xaxis": "x",
         "y": {
          "bdata": "1AY6baCzK0A8baDTBvorQM3MzMzMTClABJ020GljKkAlv1jyiwUrQNrO91Pj5SpAEBERERFxKkCPwvUoXG8rQIiIiIiISCpABzptoNMGLEBZ8oslvxgqQA==",
          "dtype": "f8"
         },
         "yaxis": "y"
        },
        {
         "customdata": [
          [
           "Hải Phòng"
          ],
          [
           "Hải Phòng"
          ],
          [
           "Hải Phòng"
          ],
          [
           "Hải Phòng"
          ],
          [
           "Hải Phòng"
          ],
          [
           "Hải Phòng"
          ],
          [
           "Hải Phòng"
          ],
          [
           "Hải Phòng"
          ],
          [
           "Hải Phòng"
          ],
          [
           "Hải Phòng"
          ],
          [
           "Hải Phòng"
          ]
         ],
         "hovertemplate": "Province=%{customdata[0]}<br>Year=%{x}<br>GHI_kWh_m2_day=%{y:.2f}<extra></extra>",
         "legendgroup": "Hải Phòng",
         "line": {
          "color": "#FFA15A",
          "dash": "solid"
         },
         "marker": {
          "symbol": "circle"
         },
         "mode": "lines+markers",
         "name": "Hải Phòng",
         "orientation": "v",
         "showlegend": true,
         "type": "scatter",
         "x": {
          "bdata": "3wfgB+EH4gfjB+MH5AflB+YH5wfoBw==",
          "dtype": "i2"
         },
         "xaxis": "x",
         "y": {
          "bdata": "r0fhehRuLEC0gU4b6PQrQNBpA502cCpA5RdLfrHEK0CIiIiIiEgsQFYOLbKd7ytAwVjyiyX/K0CF61G4HuUsQHE9CtejECxAtIFOG+hULECF61G4HuUqQA==",
          "dtype": "f8"
         },
         "yaxis": "y"
        },
        {
         "customdata": [
          [
           "Nha Trang"
          ],
          [
           "Nha Trang"
          ],
          [
           "Nha Trang"
          ],
          [
           "Nha Trang"
          ],
          [
           "Nha Trang"
          ],
          [
           "Nha Trang"
          ],
          [
           "Nha Trang"
          ],
          [
           "Nha Trang"
          ],
          [
           "Nha Trang"
          ],
          [
           "Nha Trang"
          ],
          [
           "Nha Trang"
          ]
         ],
         "hovertemplate": "Province=%{customdata[0]}<br>Year=%{x}<br>GHI_kWh_m2_day=%{y:.2f}<extra></extra>",
         "legendgroup": "Nha Trang",
         "line": {
          "color": "#19d3f3",
          "dash": "solid"
         },
         "marker": {
          "symbol": "circle"
         },
         "mode": "lines+markers",
         "name": "Nha Trang",
         "orientation": "v",
         "showlegend": true,
         "type": "scatter",
         "x": {
          "bdata": "3wfgB+EH4gfjB+MH5AflB+YH5wfoBw==",
          "dtype": "i2"
         },
         "xaxis": "x",
         "y": {
          "bdata": "rkfhehTOM0AYS36x5IcyQDMzMzMzwzFARERERERkMkC1gU4b6IQzQCGwcmiRjTJA16NwPQrnMkAAAAAAADAyQPOLJb9YsjFAH4XrUbiOMkBLfrHkFzsyQA==",
          "dtype": "f8"
         },
         "yaxis": "y"
        },
        {
         "customdata": [
          [
           "Ninh Thuận"
          ],
          [
           "Ninh Thuận"
          ],
          [
           "Ninh Thuận"
          ],
          [
           "Ninh Thuận"
          ],
          [
           "Ninh Thuận"
          ],
          [
           "Ninh Thuận"
          ],
          [
           "Ninh Thuận"
          ],
          [
           "Ninh Thuận"
          ],
          [
           "Ninh Thuận"
          ],
          [
           "Ninh Thuận"
          ],
          [
           "Ninh Thuận"
          ]
         ],
         "hovertemplate": "Province=%{customdata[0]}<br>Year=%{x}<br>GHI_kWh_m2_day=%{y:.2f}<extra></extra>",
         "legendgroup": "Ninh Thuận",
         "line": {
          "color": "#FF6692",
          "dash": "solid"
         },
         "marker": {
          "symbol": "circle"
         },
         "mode": "lines+markers",
         "name": "Ninh Thuận",
         "orientation": "v",
         "showlegend": true,
         "type": "scatter",
         "x": {
          "bdata": "3wfgB+EH4gfjB+MH5AflB+YH5wfoBw==",
          "dtype": "i2"
         },
         "xaxis": "x",
         "y": {
          "bdata": "GEt+seRHNEA20GkDndYyQJJfLPnFQjJA16NwPQrHMkA9CtejcM0zQARWDi2y/TJAw/UoXI8iM0CF61G4HuUyQHE9CtejcDJAAAAAAADQMkDhehSuR9EyQA==",
          "dtype": "f8"
         },
         "yaxis": "y"
        },
        {
         "customdata": [
          [
           "Quảng Ninh"
          ],
          [
           "Quảng Ninh"
          ],
          [
           "Quảng Ninh"
          ],
          [
           "Quảng Ninh"
          ],
          [
           "Quảng Ninh"
          ],
          [
           "Quảng Ninh"
          ],
          [
           "Quảng Ninh"
          ],
          [
           "Quảng Ninh"
          ],
          [
           "Quảng Ninh"
          ],
          [
           "Quảng Ninh"
          ],
          [
           "Quảng Ninh"
          ]
         ],
         "hovertemplate": "Province=%{customdata[0]}<br>Year=%{x}<br>GHI_kWh_m2_day=%{y:.2f}<extra></extra>",
         "legendgroup": "Quảng Ninh",
         "line": {
          "color": "#B6E880",
          "dash": "solid"
         },
         "marker": {
          "symbol": "circle"
         },
         "mode": "lines+markers",
         "name": "Quảng Ninh",
         "orientation": "v",
         "showlegend": true,
         "type": "scatter",
         "x": {
          "bdata": "3wfgB+EH4gfjB+MH5AflB+YH5wfoBw==",
          "dtype": "i2"
         },
         "xaxis": "x",
         "y": {
          "bdata": "iIiIiIhIKkD2KFyPwhUrQHXaQKcNFClA8O7u7u4OKkCg0wY6bcApQJhuEoPASipATxvotIFOKkBI4XoUrkcrQFyPwvUo/CpAgU4b6LRhKkDw7u7u7m4pQA==",
          "dtype": "f8"
         },
         "yaxis": "y"
        },
        {
         "customdata": [
          [
           "TP.HCM"
          ],
          [
           "TP.HCM"
          ],
          [
           "TP.HCM"
          ],
          [
           "TP.HCM"
          ],
          [
           "TP.HCM"
          ],
          [
           "TP.HCM"
          ],
          [
           "TP.HCM"
          ],
          [
           "TP.HCM"
          ],
          [
           "TP.HCM"
          ],
          [
           "TP.HCM"
          ],
          [
           "TP.HCM"
          ]
         ],
         "hovertemplate": "Province=%{customdata[0]}<br>Year=%{x}<br>GHI_kWh_m2_day=%{y:.2f}<extra></extra>",
         "legendgroup": "TP.HCM",
         "line": {
          "color": "#FF97FF",
          "dash": "solid"
         },
         "marker": {
          "symbol": "circle"
         },
         "mode": "lines+markers",
         "name": "TP.HCM",
         "orientation": "v",
         "showlegend": true,
         "type": "scatter",
         "x": {
          "bdata": "3wfgB+EH4gfjB+MH5AflB+YH5wfoBw==",
          "dtype": "i2"
         },
         "xaxis": "x",
         "y": {
          "bdata": "VFVVVVXFM0A9CtejcJ0yQAc6baDTFjJAG+i0gU57MkCV/GLJL/YyQKAaL90khjJAexSuR+HKMkAUrkfhemQyQKHTBjpt8DFAf7HkF0sOMkD9YskvlkwyQA==",
          "dtype": "f8"
         },
         "yaxis": "y"
        },
        {
         "customdata": [
          [
           "Điện Biên"
          ],
          [
           "Điện Biên"
          ],
          [
           "Điện Biên"
          ],
          [
           "Điện Biên"
          ],
          [
           "Điện Biên"
          ],
          [
           "Điện Biên"
          ],
          [
           "Điện Biên"
          ],
          [
           "Điện Biên"
          ],
          [
           "Điện Biên"
          ],
          [
           "Điện Biên"
          ],
          [
           "Điện Biên"
          ]
         ],
         "hovertemplate": "Province=%{customdata[0]}<br>Year=%{x}<br>GHI_kWh_m2_day=%{y:.2f}<extra></extra>",
         "legendgroup": "Điện Biên",
         "line": {
          "color": "#FECB52",
          "dash": "solid"
         },
         "marker": {
          "symbol": "circle"
         },
         "mode": "lines+markers",
         "name": "Điện Biên",
         "orientation": "v",
         "showlegend": true,
         "type": "scatter",
         "x": {
          "bdata": "3wfgB+EH4gfjB+MH5AflB+YH5wfoBw==",
          "dtype": "i2"
         },
         "xaxis": "x",
         "y": {
          "bdata": "YCz5xZJfL0BMfrHkF4svQDltoNMGWi1Aw/UoXI+iLUBI4XoUrocwQFg5tMh2vi5AqA102kAHL0DQaQOdNnAuQNBpA502cC1AIyIiIiKCL0DziyW/WBIuQA==",
          "dtype": "f8"
         },
         "yaxis": "y"
        },
        {
         "customdata": [
          [
           "Đà Nẵng"
          ],
          [
           "Đà Nẵng"
          ],
          [
           "Đà Nẵng"
          ],
          [
           "Đà Nẵng"
          ],
          [
           "Đà Nẵng"
          ],
          [
           "Đà Nẵng"
          ],
          [
           "Đà Nẵng"
          ],
          [
           "Đà Nẵng"
          ],
          [
           "Đà Nẵng"
          ],
          [
           "Đà Nẵng"
          ],
          [
           "Đà Nẵng"
          ]
         ],
         "hovertemplate": "Province=%{customdata[0]}<br>Year=%{x}<br>GHI_kWh_m2_day=%{y:.2f}<extra></extra>",
         "legendgroup": "Đà Nẵng",
         "line": {
          "color": "#636efa",
          "dash": "solid"
         },
         "marker": {
          "symbol": "circle"
         },
         "mode": "lines+markers",
         "name": "Đà Nẵng",
         "orientation": "v",
         "showlegend": true,
         "type": "scatter",
         "x": {
          "bdata": "3wfgB+EH4gfjB+MH5AflB+YH5wfoBw==",
          "dtype": "i2"
         },
         "xaxis": "x",
         "y": {
          "bdata": "3t3d3d19MkBI4XoUrscwQI/C9ShczzBAGEt+seSHMUCMJb9Y8osyQC2yne+nhjFAUrgeheuxMUAYS36x5NcxQGdmZmZmxjBAyS+W/GJpMUDyiyW/WGIxQA==",
          "dtype": "f8"
         },
         "yaxis": "y"
        },
        {
         "customdata": [
          [
           "Đắk Lắk"
          ],
          [
           "Đắk Lắk"
          ],
          [
           "Đắk Lắk"
          ],
          [
           "Đắk Lắk"
          ],
          [
           "Đắk Lắk"
          ],
          [
           "Đắk Lắk"
          ],
          [
           "Đắk Lắk"
          ],
          [
           "Đắk Lắk"
          ],
          [
           "Đắk Lắk"
          ],
          [
           "Đắk Lắk"
          ],
          [
           "Đắk Lắk"
          ]
         ],
         "hovertemplate": "Province=%{customdata[0]}<br>Year=%{x}<br>GHI_kWh_m2_day=%{y:.2f}<extra></extra>",
         "legendgroup": "Đắk Lắk",
         "line": {
          "color": "#EF553B",
          "dash": "solid"
         },
         "marker": {
          "symbol": "circle"
         },
         "mode": "lines+markers",
         "name": "Đắk Lắk",
         "orientation": "v",
         "showlegend": true,
         "type": "scatter",
         "x": {
          "bdata": "3wfgB+EH4gfjB+MH5AflB+YH5wfoBw==",
          "dtype": "i2"
         },
         "xaxis": "x",
         "y": {
          "bdata": "u7u7u7uLMkCW/GLJL1YxQGZmZmZmljBAPQrXo3BdMUB/seQXS14yQGDl0CLbWTFAw/UoXI/iMUBI4XoUrhcxQIFOG+i0kTBARERERESkMEC8u7u7uzsxQA==",
          "dtype": "f8"
         },
         "yaxis": "y"
        }
       ],
       "layout": {
        "font": {
         "size": 13
        },
        "height": 600,
        "hovermode": "x unified",
        "legend": {
         "title": {
          "text": "Province"
         },
         "tracegroupgap": 0
        },
        "template": {
         "data": {
          "bar": [
           {
            "error_x": {
             "color": "#2a3f5f"
            },
            "error_y": {
             "color": "#2a3f5f"
            },
            "marker": {
             "line": {
              "color": "white",
              "width": 0.5
             },
             "pattern": {
              "fillmode": "overlay",
              "size": 10,
              "solidity": 0.2
             }
            },
            "type": "bar"
           }
          ],
          "barpolar": [
           {
            "marker": {
             "line": {
              "color": "white",
              "width": 0.5
             },
             "pattern": {
              "fillmode": "overlay",
              "size": 10,
              "solidity": 0.2
             }
            },
            "type": "barpolar"
           }
          ],
          "carpet": [
           {
            "aaxis": {
             "endlinecolor": "#2a3f5f",
             "gridcolor": "#C8D4E3",
             "linecolor": "#C8D4E3",
             "minorgridcolor": "#C8D4E3",
             "startlinecolor": "#2a3f5f"
            },
            "baxis": {
             "endlinecolor": "#2a3f5f",
             "gridcolor": "#C8D4E3",
             "linecolor": "#C8D4E3",
             "minorgridcolor": "#C8D4E3",
             "startlinecolor": "#2a3f5f"
            },
            "type": "carpet"
           }
          ],
          "choropleth": [
           {
            "colorbar": {
             "outlinewidth": 0,
             "ticks": ""
            },
            "type": "choropleth"
           }
          ],
          "contour": [
           {
            "colorbar": {
             "outlinewidth": 0,
             "ticks": ""
            },
            "colorscale": [
             [
              0,
              "#0d0887"
             ],
             [
              0.1111111111111111,
              "#46039f"
             ],
             [
              0.2222222222222222,
              "#7201a8"
             ],
             [
              0.3333333333333333,
              "#9c179e"
             ],
             [
              0.4444444444444444,
              "#bd3786"
             ],
             [
              0.5555555555555556,
              "#d8576b"
             ],
             [
              0.6666666666666666,
              "#ed7953"
             ],
             [
              0.7777777777777778,
              "#fb9f3a"
             ],
             [
              0.8888888888888888,
              "#fdca26"
             ],
             [
              1,
              "#f0f921"
             ]
            ],
            "type": "contour"
           }
          ],
          "contourcarpet": [
           {
            "colorbar": {
             "outlinewidth": 0,
             "ticks": ""
            },
            "type": "contourcarpet"
           }
          ],
          "heatmap": [
           {
            "colorbar": {
             "outlinewidth": 0,
             "ticks": ""
            },
            "colorscale": [
             [
              0,
              "#0d0887"
             ],
             [
              0.1111111111111111,
              "#46039f"
             ],
             [
              0.2222222222222222,
              "#7201a8"
             ],
             [
              0.3333333333333333,
              "#9c179e"
             ],
             [
              0.4444444444444444,
              "#bd3786"
             ],
             [
              0.5555555555555556,
              "#d8576b"
             ],
             [
              0.6666666666666666,
              "#ed7953"
             ],
             [
              0.7777777777777778,
              "#fb9f3a"
             ],
             [
              0.8888888888888888,
              "#fdca26"
             ],
             [
              1,
              "#f0f921"
             ]
            ],
            "type": "heatmap"
           }
          ],
          "histogram": [
           {
            "marker": {
             "pattern": {
              "fillmode": "overlay",
              "size": 10,
              "solidity": 0.2
             }
            },
            "type": "histogram"
           }
          ],
          "histogram2d": [
           {
            "colorbar": {
             "outlinewidth": 0,
             "ticks": ""
            },
            "colorscale": [
             [
              0,
              "#0d0887"
             ],
             [
              0.1111111111111111,
              "#46039f"
             ],
             [
              0.2222222222222222,
              "#7201a8"
             ],
             [
              0.3333333333333333,
              "#9c179e"
             ],
             [
              0.4444444444444444,
              "#bd3786"
             ],
             [
              0.5555555555555556,
              "#d8576b"
             ],
             [
              0.6666666666666666,
              "#ed7953"
             ],
             [
              0.7777777777777778,
              "#fb9f3a"
             ],
             [
              0.8888888888888888,
              "#fdca26"
             ],
             [
              1,
              "#f0f921"
             ]
            ],
            "type": "histogram2d"
           }
          ],
          "histogram2dcontour": [
           {
            "colorbar": {
             "outlinewidth": 0,
             "ticks": ""
            },
            "colorscale": [
             [
              0,
              "#0d0887"
             ],
             [
              0.1111111111111111,
              "#46039f"
             ],
             [
              0.2222222222222222,
              "#7201a8"
             ],
             [
              0.3333333333333333,
              "#9c179e"
             ],
             [
              0.4444444444444444,
              "#bd3786"
             ],
             [
              0.5555555555555556,
              "#d8576b"
             ],
             [
              0.6666666666666666,
              "#ed7953"
             ],
             [
              0.7777777777777778,
              "#fb9f3a"
             ],
             [
              0.8888888888888888,
              "#fdca26"
             ],
             [
              1,
              "#f0f921"
             ]
            ],
            "type": "histogram2dcontour"
           }
          ],
          "mesh3d": [
           {
            "colorbar": {
             "outlinewidth": 0,
             "ticks": ""
            },
            "type": "mesh3d"
           }
          ],
          "parcoords": [
           {
            "line": {
             "colorbar": {
              "outlinewidth": 0,
              "ticks": ""
             }
            },
            "type": "parcoords"
           }
          ],
          "pie": [
           {
            "automargin": true,
            "type": "pie"
           }
          ],
          "scatter": [
           {
            "fillpattern": {
             "fillmode": "overlay",
             "size": 10,
             "solidity": 0.2
            },
            "type": "scatter"
           }
          ],
          "scatter3d": [
           {
            "line": {
             "colorbar": {
              "outlinewidth": 0,
              "ticks": ""
             }
            },
            "marker": {
             "colorbar": {
              "outlinewidth": 0,
              "ticks": ""
             }
            },
            "type": "scatter3d"
           }
          ],
          "scattercarpet": [
           {
            "marker": {
             "colorbar": {
              "outlinewidth": 0,
              "ticks": ""
             }
            },
            "type": "scattercarpet"
           }
          ],
          "scattergeo": [
           {
            "marker": {
             "colorbar": {
              "outlinewidth": 0,
              "ticks": ""
             }
            },
            "type": "scattergeo"
           }
          ],
          "scattergl": [
           {
            "marker": {
             "colorbar": {
              "outlinewidth": 0,
              "ticks": ""
             }
            },
            "type": "scattergl"
           }
          ],
          "scattermap": [
           {
            "marker": {
             "colorbar": {
              "outlinewidth": 0,
              "ticks": ""
             }
            },
            "type": "scattermap"
           }
          ],
          "scattermapbox": [
           {
            "marker": {
             "colorbar": {
              "outlinewidth": 0,
              "ticks": ""
             }
            },
            "type": "scattermapbox"
           }
          ],
          "scatterpolar": [
           {
            "marker": {
             "colorbar": {
              "outlinewidth": 0,
              "ticks": ""
             }
            },
            "type": "scatterpolar"
           }
          ],
          "scatterpolargl": [
           {
            "marker": {
             "colorbar": {
              "outlinewidth": 0,
              "ticks": ""
             }
            },
            "type": "scatterpolargl"
           }
          ],
          "scatterternary": [
           {
            "marker": {
             "colorbar": {
              "outlinewidth": 0,
              "ticks": ""
             }
            },
            "type": "scatterternary"
           }
          ],
          "surface": [
           {
            "colorbar": {
             "outlinewidth": 0,
             "ticks": ""
            },
            "colorscale": [
             [
              0,
              "#0d0887"
             ],
             [
              0.1111111111111111,
              "#46039f"
             ],
             [
              0.2222222222222222,
              "#7201a8"
             ],
             [
              0.3333333333333333,
              "#9c179e"
             ],
             [
              0.4444444444444444,
              "#bd3786"
             ],
             [
              0.5555555555555556,
              "#d8576b"
             ],
             [
              0.6666666666666666,
              "#ed7953"
             ],
             [
              0.7777777777777778,
              "#fb9f3a"
             ],
             [
              0.8888888888888888,
              "#fdca26"
             ],
             [
              1,
              "#f0f921"
             ]
            ],
            "type": "surface"
           }
          ],
          "table": [
           {
            "cells": {
             "fill": {
              "color": "#EBF0F8"
             },
             "line": {
              "color": "white"
             }
            },
            "header": {
             "fill": {
              "color": "#C8D4E3"
             },
             "line": {
              "color": "white"
             }
            },
            "type": "table"
           }
          ]
         },
         "layout": {
          "annotationdefaults": {
           "arrowcolor": "#2a3f5f",
           "arrowhead": 0,
           "arrowwidth": 1
          },
          "autotypenumbers": "strict",
          "coloraxis": {
           "colorbar": {
            "outlinewidth": 0,
            "ticks": ""
           }
          },
          "colorscale": {
           "diverging": [
            [
             0,
             "#8e0152"
            ],
            [
             0.1,
             "#c51b7d"
            ],
            [
             0.2,
             "#de77ae"
            ],
            [
             0.3,
             "#f1b6da"
            ],
            [
             0.4,
             "#fde0ef"
            ],
            [
             0.5,
             "#f7f7f7"
            ],
            [
             0.6,
             "#e6f5d0"
            ],
            [
             0.7,
             "#b8e186"
            ],
            [
             0.8,
             "#7fbc41"
            ],
            [
             0.9,
             "#4d9221"
            ],
            [
             1,
             "#276419"
            ]
           ],
           "sequential": [
            [
             0,
             "#0d0887"
            ],
            [
             0.1111111111111111,
             "#46039f"
            ],
            [
             0.2222222222222222,
             "#7201a8"
            ],
            [
             0.3333333333333333,
             "#9c179e"
            ],
            [
             0.4444444444444444,
             "#bd3786"
            ],
            [
             0.5555555555555556,
             "#d8576b"
            ],
            [
             0.6666666666666666,
             "#ed7953"
            ],
            [
             0.7777777777777778,
             "#fb9f3a"
            ],
            [
             0.8888888888888888,
             "#fdca26"
            ],
            [
             1,
             "#f0f921"
            ]
           ],
           "sequentialminus": [
            [
             0,
             "#0d0887"
            ],
            [
             0.1111111111111111,
             "#46039f"
            ],
            [
             0.2222222222222222,
             "#7201a8"
            ],
            [
             0.3333333333333333,
             "#9c179e"
            ],
            [
             0.4444444444444444,
             "#bd3786"
            ],
            [
             0.5555555555555556,
             "#d8576b"
            ],
            [
             0.6666666666666666,
             "#ed7953"
            ],
            [
             0.7777777777777778,
             "#fb9f3a"
            ],
            [
             0.8888888888888888,
             "#fdca26"
            ],
            [
             1,
             "#f0f921"
            ]
           ]
          },
          "colorway": [
           "#636efa",
           "#EF553B",
           "#00cc96",
           "#ab63fa",
           "#FFA15A",
           "#19d3f3",
           "#FF6692",
           "#B6E880",
           "#FF97FF",
           "#FECB52"
          ],
          "font": {
           "color": "#2a3f5f"
          },
          "geo": {
           "bgcolor": "white",
           "lakecolor": "white",
           "landcolor": "white",
           "showlakes": true,
           "showland": true,
           "subunitcolor": "#C8D4E3"
          },
          "hoverlabel": {
           "align": "left"
          },
          "hovermode": "closest",
          "mapbox": {
           "style": "light"
          },
          "paper_bgcolor": "white",
          "plot_bgcolor": "white",
          "polar": {
           "angularaxis": {
            "gridcolor": "#EBF0F8",
            "linecolor": "#EBF0F8",
            "ticks": ""
           },
           "bgcolor": "white",
           "radialaxis": {
            "gridcolor": "#EBF0F8",
            "linecolor": "#EBF0F8",
            "ticks": ""
           }
          },
          "scene": {
           "xaxis": {
            "backgroundcolor": "white",
            "gridcolor": "#DFE8F3",
            "gridwidth": 2,
            "linecolor": "#EBF0F8",
            "showbackground": true,
            "ticks": "",
            "zerolinecolor": "#EBF0F8"
           },
           "yaxis": {
            "backgroundcolor": "white",
            "gridcolor": "#DFE8F3",
            "gridwidth": 2,
            "linecolor": "#EBF0F8",
            "showbackground": true,
            "ticks": "",
            "zerolinecolor": "#EBF0F8"
           },
           "zaxis": {
            "backgroundcolor": "white",
            "gridcolor": "#DFE8F3",
            "gridwidth": 2,
            "linecolor": "#EBF0F8",
            "showbackground": true,
            "ticks": "",
            "zerolinecolor": "#EBF0F8"
           }
          },
          "shapedefaults": {
           "line": {
            "color": "#2a3f5f"
           }
          },
          "ternary": {
           "aaxis": {
            "gridcolor": "#DFE8F3",
            "linecolor": "#A2B1C6",
            "ticks": ""
           },
           "baxis": {
            "gridcolor": "#DFE8F3",
            "linecolor": "#A2B1C6",
            "ticks": ""
           },
           "bgcolor": "white",
           "caxis": {
            "gridcolor": "#DFE8F3",
            "linecolor": "#A2B1C6",
            "ticks": ""
           }
          },
          "title": {
           "x": 0.05
          },
          "xaxis": {
           "automargin": true,
           "gridcolor": "#EBF0F8",
           "linecolor": "#EBF0F8",
           "ticks": "",
           "title": {
            "standoff": 15
           },
           "zerolinecolor": "#EBF0F8",
           "zerolinewidth": 2
          },
          "yaxis": {
           "automargin": true,
           "gridcolor": "#EBF0F8",
           "linecolor": "#EBF0F8",
           "ticks": "",
           "title": {
            "standoff": 15
           },
           "zerolinecolor": "#EBF0F8",
           "zerolinewidth": 2
          }
         }
        },
        "title": {
         "text": "☀️ Average Solar Irradiance (GHI) Trend Over Time 2015-2024",
         "x": 0.5
        },
        "xaxis": {
         "anchor": "y",
         "domain": [
          0,
          1
         ],
         "title": {
          "text": "Year"
         }
        },
        "yaxis": {
         "anchor": "x",
         "domain": [
          0,
          1
         ],
         "title": {
          "text": "Average Irradiance (kWh/m²/day)"
         }
        }
       }
      }
     },
     "metadata": {},
     "output_type": "display_data"
    }
   ],
   "source": [
    "import pandas as pd\n",
    "import plotly.express as px\n",
    "\n",
    "df = pd.read_csv(\"solar_annual_vietnam_full.csv\")\n",
    "\n",
    "df = df[df[\"Year\"] >= 2015]\n",
    "df[\"Year\"] = df[\"Year\"].astype(int)\n",
    "\n",
    "fig = px.line(\n",
    "    df,\n",
    "    x=\"Year\",\n",
    "    y=\"GHI_kWh_m2_day\",\n",
    "    color=\"Province\",\n",
    "    markers=True,\n",
    "    hover_data={\"Year\": True, \"GHI_kWh_m2_day\": ':.2f', \"Province\": True},\n",
    "    title=\"☀️ Average Solar Irradiance (GHI) Trend Over Time 2015-2024\",\n",
    ")\n",
    "\n",
    "fig.update_layout(\n",
    "    xaxis_title=\"Year\",\n",
    "    yaxis_title=\"Average Irradiance (kWh/m²/day)\",\n",
    "    legend_title=\"Province\",\n",
    "    template=\"plotly_white\",\n",
    "    hovermode=\"x unified\",\n",
    "    height=600,\n",
    "    title_x=0.5,\n",
    "    font=dict(size=13)\n",
    ")\n",
    "\n",
    "fig.show()\n"
   ]
  },
  {
   "cell_type": "code",
   "execution_count": null,
   "metadata": {},
   "outputs": [
    {
     "data": {
      "application/vnd.plotly.v1+json": {
       "config": {
        "plotlyServerURL": "https://plot.ly"
       },
       "data": [
        {
         "customdata": [
          [
           "Bình Thuận",
           108.0721
          ],
          [
           "Cần Thơ",
           105.7469
          ],
          [
           "Huế",
           107.5909
          ],
          [
           "Hà Nội",
           105.8542
          ],
          [
           "Hải Phòng",
           106.6881
          ],
          [
           "Nha Trang",
           109.1967
          ],
          [
           "Ninh Thuận",
           108.8463
          ],
          [
           "Quảng Ninh",
           107.2925
          ],
          [
           "TP.HCM",
           106.7009
          ],
          [
           "Điện Biên",
           103.0181
          ],
          [
           "Đà Nẵng",
           108.2022
          ],
          [
           "Đắk Lắk",
           108.2378
          ]
         ],
         "hovertemplate": "Lat=%{x:.2f}<br>GHI_kWh_m2_day=%{marker.color:.2f}<br>Province=%{customdata[0]}<br>Lon=%{customdata[1]:.2f}<extra></extra>",
         "legendgroup": "",
         "marker": {
          "color": {
           "bdata": "10f4mD0BM0BBG4tVyVIyQAPMWTb/zC5A/uuWEpreKkCxKlnahugrQAIrhxbZjjJA10f4mD0BM0CLVcnSNkQqQCPyF6jdiTJAjzhBMqm+LkBjsSpZ2oYxQE+natOSXDFA",
           "dtype": "f8"
          },
          "coloraxis": "coloraxis",
          "symbol": "circle"
         },
         "mode": "markers+text",
         "name": "",
         "orientation": "v",
         "showlegend": false,
         "text": [
          "Bình Thuận",
          "Cần Thơ",
          "Huế",
          "Hà Nội",
          "Hải Phòng",
          "Nha Trang",
          "Ninh Thuận",
          "Quảng Ninh",
          "TP.HCM",
          "Điện Biên",
          "Đà Nẵng",
          "Đắk Lắk"
         ],
         "textposition": "top center",
         "type": "scatter",
         "x": {
          "bdata": "5x2n6EguJkDzjlN0JBckQLsnDwu1djBAnu+nxksHNUDxY8xdS9g0QNGRXP5DeihApSxDHOuCJ0DEsS5uowE1QFmGONbFjSVAiUFg5dBiNUAE54wo7Q0wQOxRuB6FaylA",
          "dtype": "f8"
         },
         "xaxis": "x",
         "y": {
          "bdata": "10f4mD0BM0BBG4tVyVIyQAPMWTb/zC5A/uuWEpreKkCxKlnahugrQAIrhxbZjjJA10f4mD0BM0CLVcnSNkQqQCPyF6jdiTJAjzhBMqm+LkBjsSpZ2oYxQE+natOSXDFA",
          "dtype": "f8"
         },
         "yaxis": "y"
        },
        {
         "hovertemplate": "<b>OLS trendline</b><br>GHI_kWh_m2_day = -0.45912 * Lat + 23.7279<br>R<sup>2</sup>=0.870124<br><br>Lat=%{x:.2f}<br>GHI_kWh_m2_day=%{y:.2f} <b>(trend)</b><extra></extra>",
         "legendgroup": "",
         "marker": {
          "symbol": "circle"
         },
         "mode": "lines",
         "name": "",
         "showlegend": false,
         "textposition": "top center",
         "type": "scatter",
         "x": {
          "bdata": "845TdCQXJEBZhjjWxY0lQOcdp+hILiZApSxDHOuCJ0DRkVz+Q3ooQOxRuB6FaylABOeMKO0NMEC7Jw8LtXYwQPFjzF1L2DRAxLEubqMBNUCe76fGSwc1QIlBYOXQYjVA",
          "dtype": "f8"
         },
         "xaxis": "x",
         "y": {
          "bdata": "YUuvcasdM0CinrRlq8cyQID9F4fSojJARcE9YqBUMkDuUOJv2BsyQI+kWIx25DFARIS3PGFbMEAIJeXZRSswQJ++rr2oUCxAytLeBrIqLEAIRPgYgCUsQM1NDIl20StA",
          "dtype": "f8"
         },
         "yaxis": "y"
        }
       ],
       "layout": {
        "coloraxis": {
         "colorbar": {
          "title": {
           "text": "Irradiance (kWh/m²/day)"
          }
         },
         "colorscale": [
          [
           0,
           "rgb(255,255,204)"
          ],
          [
           0.125,
           "rgb(255,237,160)"
          ],
          [
           0.25,
           "rgb(254,217,118)"
          ],
          [
           0.375,
           "rgb(254,178,76)"
          ],
          [
           0.5,
           "rgb(253,141,60)"
          ],
          [
           0.625,
           "rgb(252,78,42)"
          ],
          [
           0.75,
           "rgb(227,26,28)"
          ],
          [
           0.875,
           "rgb(189,0,38)"
          ],
          [
           1,
           "rgb(128,0,38)"
          ]
         ]
        },
        "legend": {
         "tracegroupgap": 0
        },
        "template": {
         "data": {
          "bar": [
           {
            "error_x": {
             "color": "#2a3f5f"
            },
            "error_y": {
             "color": "#2a3f5f"
            },
            "marker": {
             "line": {
              "color": "white",
              "width": 0.5
             },
             "pattern": {
              "fillmode": "overlay",
              "size": 10,
              "solidity": 0.2
             }
            },
            "type": "bar"
           }
          ],
          "barpolar": [
           {
            "marker": {
             "line": {
              "color": "white",
              "width": 0.5
             },
             "pattern": {
              "fillmode": "overlay",
              "size": 10,
              "solidity": 0.2
             }
            },
            "type": "barpolar"
           }
          ],
          "carpet": [
           {
            "aaxis": {
             "endlinecolor": "#2a3f5f",
             "gridcolor": "#C8D4E3",
             "linecolor": "#C8D4E3",
             "minorgridcolor": "#C8D4E3",
             "startlinecolor": "#2a3f5f"
            },
            "baxis": {
             "endlinecolor": "#2a3f5f",
             "gridcolor": "#C8D4E3",
             "linecolor": "#C8D4E3",
             "minorgridcolor": "#C8D4E3",
             "startlinecolor": "#2a3f5f"
            },
            "type": "carpet"
           }
          ],
          "choropleth": [
           {
            "colorbar": {
             "outlinewidth": 0,
             "ticks": ""
            },
            "type": "choropleth"
           }
          ],
          "contour": [
           {
            "colorbar": {
             "outlinewidth": 0,
             "ticks": ""
            },
            "colorscale": [
             [
              0,
              "#0d0887"
             ],
             [
              0.1111111111111111,
              "#46039f"
             ],
             [
              0.2222222222222222,
              "#7201a8"
             ],
             [
              0.3333333333333333,
              "#9c179e"
             ],
             [
              0.4444444444444444,
              "#bd3786"
             ],
             [
              0.5555555555555556,
              "#d8576b"
             ],
             [
              0.6666666666666666,
              "#ed7953"
             ],
             [
              0.7777777777777778,
              "#fb9f3a"
             ],
             [
              0.8888888888888888,
              "#fdca26"
             ],
             [
              1,
              "#f0f921"
             ]
            ],
            "type": "contour"
           }
          ],
          "contourcarpet": [
           {
            "colorbar": {
             "outlinewidth": 0,
             "ticks": ""
            },
            "type": "contourcarpet"
           }
          ],
          "heatmap": [
           {
            "colorbar": {
             "outlinewidth": 0,
             "ticks": ""
            },
            "colorscale": [
             [
              0,
              "#0d0887"
             ],
             [
              0.1111111111111111,
              "#46039f"
             ],
             [
              0.2222222222222222,
              "#7201a8"
             ],
             [
              0.3333333333333333,
              "#9c179e"
             ],
             [
              0.4444444444444444,
              "#bd3786"
             ],
             [
              0.5555555555555556,
              "#d8576b"
             ],
             [
              0.6666666666666666,
              "#ed7953"
             ],
             [
              0.7777777777777778,
              "#fb9f3a"
             ],
             [
              0.8888888888888888,
              "#fdca26"
             ],
             [
              1,
              "#f0f921"
             ]
            ],
            "type": "heatmap"
           }
          ],
          "histogram": [
           {
            "marker": {
             "pattern": {
              "fillmode": "overlay",
              "size": 10,
              "solidity": 0.2
             }
            },
            "type": "histogram"
           }
          ],
          "histogram2d": [
           {
            "colorbar": {
             "outlinewidth": 0,
             "ticks": ""
            },
            "colorscale": [
             [
              0,
              "#0d0887"
             ],
             [
              0.1111111111111111,
              "#46039f"
             ],
             [
              0.2222222222222222,
              "#7201a8"
             ],
             [
              0.3333333333333333,
              "#9c179e"
             ],
             [
              0.4444444444444444,
              "#bd3786"
             ],
             [
              0.5555555555555556,
              "#d8576b"
             ],
             [
              0.6666666666666666,
              "#ed7953"
             ],
             [
              0.7777777777777778,
              "#fb9f3a"
             ],
             [
              0.8888888888888888,
              "#fdca26"
             ],
             [
              1,
              "#f0f921"
             ]
            ],
            "type": "histogram2d"
           }
          ],
          "histogram2dcontour": [
           {
            "colorbar": {
             "outlinewidth": 0,
             "ticks": ""
            },
            "colorscale": [
             [
              0,
              "#0d0887"
             ],
             [
              0.1111111111111111,
              "#46039f"
             ],
             [
              0.2222222222222222,
              "#7201a8"
             ],
             [
              0.3333333333333333,
              "#9c179e"
             ],
             [
              0.4444444444444444,
              "#bd3786"
             ],
             [
              0.5555555555555556,
              "#d8576b"
             ],
             [
              0.6666666666666666,
              "#ed7953"
             ],
             [
              0.7777777777777778,
              "#fb9f3a"
             ],
             [
              0.8888888888888888,
              "#fdca26"
             ],
             [
              1,
              "#f0f921"
             ]
            ],
            "type": "histogram2dcontour"
           }
          ],
          "mesh3d": [
           {
            "colorbar": {
             "outlinewidth": 0,
             "ticks": ""
            },
            "type": "mesh3d"
           }
          ],
          "parcoords": [
           {
            "line": {
             "colorbar": {
              "outlinewidth": 0,
              "ticks": ""
             }
            },
            "type": "parcoords"
           }
          ],
          "pie": [
           {
            "automargin": true,
            "type": "pie"
           }
          ],
          "scatter": [
           {
            "fillpattern": {
             "fillmode": "overlay",
             "size": 10,
             "solidity": 0.2
            },
            "type": "scatter"
           }
          ],
          "scatter3d": [
           {
            "line": {
             "colorbar": {
              "outlinewidth": 0,
              "ticks": ""
             }
            },
            "marker": {
             "colorbar": {
              "outlinewidth": 0,
              "ticks": ""
             }
            },
            "type": "scatter3d"
           }
          ],
          "scattercarpet": [
           {
            "marker": {
             "colorbar": {
              "outlinewidth": 0,
              "ticks": ""
             }
            },
            "type": "scattercarpet"
           }
          ],
          "scattergeo": [
           {
            "marker": {
             "colorbar": {
              "outlinewidth": 0,
              "ticks": ""
             }
            },
            "type": "scattergeo"
           }
          ],
          "scattergl": [
           {
            "marker": {
             "colorbar": {
              "outlinewidth": 0,
              "ticks": ""
             }
            },
            "type": "scattergl"
           }
          ],
          "scattermap": [
           {
            "marker": {
             "colorbar": {
              "outlinewidth": 0,
              "ticks": ""
             }
            },
            "type": "scattermap"
           }
          ],
          "scattermapbox": [
           {
            "marker": {
             "colorbar": {
              "outlinewidth": 0,
              "ticks": ""
             }
            },
            "type": "scattermapbox"
           }
          ],
          "scatterpolar": [
           {
            "marker": {
             "colorbar": {
              "outlinewidth": 0,
              "ticks": ""
             }
            },
            "type": "scatterpolar"
           }
          ],
          "scatterpolargl": [
           {
            "marker": {
             "colorbar": {
              "outlinewidth": 0,
              "ticks": ""
             }
            },
            "type": "scatterpolargl"
           }
          ],
          "scatterternary": [
           {
            "marker": {
             "colorbar": {
              "outlinewidth": 0,
              "ticks": ""
             }
            },
            "type": "scatterternary"
           }
          ],
          "surface": [
           {
            "colorbar": {
             "outlinewidth": 0,
             "ticks": ""
            },
            "colorscale": [
             [
              0,
              "#0d0887"
             ],
             [
              0.1111111111111111,
              "#46039f"
             ],
             [
              0.2222222222222222,
              "#7201a8"
             ],
             [
              0.3333333333333333,
              "#9c179e"
             ],
             [
              0.4444444444444444,
              "#bd3786"
             ],
             [
              0.5555555555555556,
              "#d8576b"
             ],
             [
              0.6666666666666666,
              "#ed7953"
             ],
             [
              0.7777777777777778,
              "#fb9f3a"
             ],
             [
              0.8888888888888888,
              "#fdca26"
             ],
             [
              1,
              "#f0f921"
             ]
            ],
            "type": "surface"
           }
          ],
          "table": [
           {
            "cells": {
             "fill": {
              "color": "#EBF0F8"
             },
             "line": {
              "color": "white"
             }
            },
            "header": {
             "fill": {
              "color": "#C8D4E3"
             },
             "line": {
              "color": "white"
             }
            },
            "type": "table"
           }
          ]
         },
         "layout": {
          "annotationdefaults": {
           "arrowcolor": "#2a3f5f",
           "arrowhead": 0,
           "arrowwidth": 1
          },
          "autotypenumbers": "strict",
          "coloraxis": {
           "colorbar": {
            "outlinewidth": 0,
            "ticks": ""
           }
          },
          "colorscale": {
           "diverging": [
            [
             0,
             "#8e0152"
            ],
            [
             0.1,
             "#c51b7d"
            ],
            [
             0.2,
             "#de77ae"
            ],
            [
             0.3,
             "#f1b6da"
            ],
            [
             0.4,
             "#fde0ef"
            ],
            [
             0.5,
             "#f7f7f7"
            ],
            [
             0.6,
             "#e6f5d0"
            ],
            [
             0.7,
             "#b8e186"
            ],
            [
             0.8,
             "#7fbc41"
            ],
            [
             0.9,
             "#4d9221"
            ],
            [
             1,
             "#276419"
            ]
           ],
           "sequential": [
            [
             0,
             "#0d0887"
            ],
            [
             0.1111111111111111,
             "#46039f"
            ],
            [
             0.2222222222222222,
             "#7201a8"
            ],
            [
             0.3333333333333333,
             "#9c179e"
            ],
            [
             0.4444444444444444,
             "#bd3786"
            ],
            [
             0.5555555555555556,
             "#d8576b"
            ],
            [
             0.6666666666666666,
             "#ed7953"
            ],
            [
             0.7777777777777778,
             "#fb9f3a"
            ],
            [
             0.8888888888888888,
             "#fdca26"
            ],
            [
             1,
             "#f0f921"
            ]
           ],
           "sequentialminus": [
            [
             0,
             "#0d0887"
            ],
            [
             0.1111111111111111,
             "#46039f"
            ],
            [
             0.2222222222222222,
             "#7201a8"
            ],
            [
             0.3333333333333333,
             "#9c179e"
            ],
            [
             0.4444444444444444,
             "#bd3786"
            ],
            [
             0.5555555555555556,
             "#d8576b"
            ],
            [
             0.6666666666666666,
             "#ed7953"
            ],
            [
             0.7777777777777778,
             "#fb9f3a"
            ],
            [
             0.8888888888888888,
             "#fdca26"
            ],
            [
             1,
             "#f0f921"
            ]
           ]
          },
          "colorway": [
           "#636efa",
           "#EF553B",
           "#00cc96",
           "#ab63fa",
           "#FFA15A",
           "#19d3f3",
           "#FF6692",
           "#B6E880",
           "#FF97FF",
           "#FECB52"
          ],
          "font": {
           "color": "#2a3f5f"
          },
          "geo": {
           "bgcolor": "white",
           "lakecolor": "white",
           "landcolor": "white",
           "showlakes": true,
           "showland": true,
           "subunitcolor": "#C8D4E3"
          },
          "hoverlabel": {
           "align": "left"
          },
          "hovermode": "closest",
          "mapbox": {
           "style": "light"
          },
          "paper_bgcolor": "white",
          "plot_bgcolor": "white",
          "polar": {
           "angularaxis": {
            "gridcolor": "#EBF0F8",
            "linecolor": "#EBF0F8",
            "ticks": ""
           },
           "bgcolor": "white",
           "radialaxis": {
            "gridcolor": "#EBF0F8",
            "linecolor": "#EBF0F8",
            "ticks": ""
           }
          },
          "scene": {
           "xaxis": {
            "backgroundcolor": "white",
            "gridcolor": "#DFE8F3",
            "gridwidth": 2,
            "linecolor": "#EBF0F8",
            "showbackground": true,
            "ticks": "",
            "zerolinecolor": "#EBF0F8"
           },
           "yaxis": {
            "backgroundcolor": "white",
            "gridcolor": "#DFE8F3",
            "gridwidth": 2,
            "linecolor": "#EBF0F8",
            "showbackground": true,
            "ticks": "",
            "zerolinecolor": "#EBF0F8"
           },
           "zaxis": {
            "backgroundcolor": "white",
            "gridcolor": "#DFE8F3",
            "gridwidth": 2,
            "linecolor": "#EBF0F8",
            "showbackground": true,
            "ticks": "",
            "zerolinecolor": "#EBF0F8"
           }
          },
          "shapedefaults": {
           "line": {
            "color": "#2a3f5f"
           }
          },
          "ternary": {
           "aaxis": {
            "gridcolor": "#DFE8F3",
            "linecolor": "#A2B1C6",
            "ticks": ""
           },
           "baxis": {
            "gridcolor": "#DFE8F3",
            "linecolor": "#A2B1C6",
            "ticks": ""
           },
           "bgcolor": "white",
           "caxis": {
            "gridcolor": "#DFE8F3",
            "linecolor": "#A2B1C6",
            "ticks": ""
           }
          },
          "title": {
           "x": 0.05
          },
          "xaxis": {
           "automargin": true,
           "gridcolor": "#EBF0F8",
           "linecolor": "#EBF0F8",
           "ticks": "",
           "title": {
            "standoff": 15
           },
           "zerolinecolor": "#EBF0F8",
           "zerolinewidth": 2
          },
          "yaxis": {
           "automargin": true,
           "gridcolor": "#EBF0F8",
           "linecolor": "#EBF0F8",
           "ticks": "",
           "title": {
            "standoff": 15
           },
           "zerolinecolor": "#EBF0F8",
           "zerolinewidth": 2
          }
         }
        },
        "title": {
         "text": "Relationship Between Latitude and Average Solar Irradiance in Vietnam"
        },
        "xaxis": {
         "anchor": "y",
         "domain": [
          0,
          1
         ],
         "title": {
          "text": "Latitude"
         }
        },
        "yaxis": {
         "anchor": "x",
         "domain": [
          0,
          1
         ],
         "title": {
          "text": "Average Irradiance (kWh/m²/day)"
         }
        }
       }
      }
     },
     "metadata": {},
     "output_type": "display_data"
    }
   ],
   "source": [
    "import pandas as pd\n",
    "import plotly.express as px\n",
    "\n",
    "df = pd.read_csv(\"solar_monthly_vietnam_full.csv\")\n",
    "\n",
    "geo_summary = (\n",
    "    df.groupby([\"Province\", \"Lat\", \"Lon\"])\n",
    "    .agg({\"GHI_kWh_m2_day\": \"mean\"})\n",
    "    .reset_index()\n",
    ")\n",
    "\n",
    "fig = px.scatter(\n",
    "    geo_summary,\n",
    "    x=\"Lat\",\n",
    "    y=\"GHI_kWh_m2_day\",\n",
    "    text=\"Province\",\n",
    "    color=\"GHI_kWh_m2_day\",\n",
    "    color_continuous_scale=\"YlOrRd\",\n",
    "    hover_data={\"Province\": True, \"Lat\": ':.2f', \"Lon\": ':.2f', \"GHI_kWh_m2_day\": ':.2f'},\n",
    "    title=\"Relationship Between Latitude and Average Solar Irradiance in Vietnam\",\n",
    "    trendline=\"ols\"\n",
    ")\n",
    "\n",
    "fig.update_traces(textposition=\"top center\")\n",
    "fig.update_layout(\n",
    "    xaxis_title=\"Latitude\",\n",
    "    yaxis_title=\"Average Irradiance (kWh/m²/day)\",\n",
    "    coloraxis_colorbar_title=\"Irradiance (kWh/m²/day)\",\n",
    "    template=\"plotly_white\"\n",
    ")\n",
    "\n",
    "fig.show()\n"
   ]
  },
  {
   "cell_type": "code",
   "execution_count": null,
   "metadata": {},
   "outputs": [
    {
     "data": {
      "image/png": "[encoded data removed]",
      "text/plain": [
       "<Figure size 900x700 with 2 Axes>"
      ]
     },
     "metadata": {},
     "output_type": "display_data"
    }
   ],
   "source": [
    "import pandas as pd\n",
    "import seaborn as sns\n",
    "import matplotlib.pyplot as plt\n",
    "\n",
    "df = pd.read_csv(\"solar_monthly_vietnam_full.csv\")\n",
    "\n",
    "df_en = df.rename(columns={\n",
    "    \"GHI_kWh_m2_day\": \"Solar Irradiance (kWh/m²/day)\",\n",
    "    \"T2M\": \"Average Temperature (°C)\",\n",
    "    \"RH2M\": \"Average Humidity (%)\",\n",
    "    \"WS2M\": \"Wind Speed (m/s)\",\n",
    "    \n",
    "})\n",
    "\n",
    "cols = [\n",
    "    \"Solar Irradiance (kWh/m²/day)\",\n",
    "    \"Average Temperature (°C)\",\n",
    "    \"Average Humidity (%)\",\n",
    "    \"Wind Speed (m/s)\",\n",
    "   \n",
    "]\n",
    "\n",
    "corr = df_en[cols].corr(method=\"pearson\")\n",
    "\n",
    "plt.figure(figsize=(9, 7))\n",
    "sns.heatmap(\n",
    "    corr,\n",
    "    annot=True,\n",
    "    cmap=\"coolwarm\",\n",
    "    center=0,\n",
    "    fmt=\".2f\",\n",
    "    linewidths=0.5,\n",
    "    cbar_kws={\"shrink\": 0.8, \"label\": \"Correlation Level (r)\"},\n",
    "    annot_kws={\"size\": 11}\n",
    ")\n",
    "\n",
    "plt.title(\n",
    "    \"Relationships Between Climate Factors and Solar Energy in Vietnam (2015-2024)\",\n",
    "    fontsize=13, pad=15\n",
    ")\n",
    "plt.xticks(rotation=45, ha=\"right\", fontsize=10)\n",
    "plt.yticks(rotation=0, fontsize=10)\n",
    "plt.tight_layout()\n",
    "plt.show()\n"
   ]
  },
  {
   "cell_type": "code",
   "execution_count": null,
   "metadata": {},
   "outputs": [
    {
     "name": "stderr",
     "output_type": "stream",
     "text": [
      "C:\\Users\\APC\\AppData\\Local\\Temp\\ipykernel_10852\\1487996820.py:11: DeprecationWarning:\n",
      "\n",
      "*scatter_mapbox* is deprecated! Use *scatter_map* instead. Learn more at: https://plotly.com/python/mapbox-to-maplibre/\n",
      "\n"
     ]
    },
    {
     "data": {
      "application/vnd.plotly.v1+json": {
       "config": {
        "displayModeBar": true,
        "displaylogo": false,
        "modeBarButtonsToRemove": [
         "lasso2d",
         "select2d"
        ],
        "plotlyServerURL": "https://plot.ly",
        "scrollZoom": true
       },
       "data": [
        {
         "customdata": {
          "bdata": "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",
          "dtype": "f8",
          "shape": "1560, 3"
         },
         "hovertemplate": "<b>%{hovertext}</b><br><br>GHI_kWh_m2_day=%{marker.color:.2f}<br>Lat=%{customdata[0]:.2f}<br>Lon=%{customdata[1]:.2f}<extra></extra>",
         "hovertext": [
          "Hà Nội",
          "Hà Nội",
          "Hà Nội",
          "Hà Nội",
          "Hà Nội",
          "Hà Nội",
          "Hà Nội",
          "Hà Nội",
          "Hà Nội",
          "Hà Nội",
          "Hà Nội",
          "Hà Nội",
          "Hà Nội",
          "Hà Nội",
          "Hà Nội",
          "Hà Nội",
          "Hà Nội",
          "Hà Nội",
          "Hà Nội",
          "Hà Nội",
          "Hà Nội",
          "Hà Nội",
          "Hà Nội",
          "Hà Nội",
          "Hà Nội",
          "Hà Nội",
          "Hà Nội",
          "Hà Nội",
          "Hà Nội",
          "Hà Nội",
          "Hà Nội",
          "Hà Nội",
          "Hà Nội",
          "Hà Nội",
          "Hà Nội",
          "Hà Nội",
          "Hà Nội",
          "Hà Nội",
          "Hà Nội",
          "Hà Nội",
          "Hà Nội",
          "Hà Nội",
          "Hà Nội",
          "Hà Nội",
          "Hà Nội",
          "Hà Nội",
          "Hà Nội",
          "Hà Nội",
          "Hà Nội",
          "Hà Nội",
          "Hà Nội",
          "Hà Nội",
          "Hà Nội",
          "Hà Nội",
          "Hà Nội",
          "Hà Nội",
          "Hà Nội",
          "Hà Nội",
          "Hà Nội",
          "Hà Nội",
          "Hà Nội",
          "Hà Nội",
          "Hà Nội",
          "Hà Nội",
          "Hà Nội",
          "Hà Nội",
          "Hà Nội",
          "Hà Nội",
          "Hà Nội",
          "Hà Nội",
          "Hà Nội",
          "Hà Nội",
          "Hà Nội",
          "Hà Nội",
          "Hà Nội",
          "Hà Nội",
          "Hà Nội",
          "Hà Nội",
          "Hà Nội",
          "Hà Nội",
          "Hà Nội",
          "Hà Nội",
          "Hà Nội",
          "Hà Nội",
          "Hà Nội",
          "Hà Nội",
          "Hà Nội",
          "Hà Nội",
          "Hà Nội",
          "Hà Nội",
          "Hà Nội",
          "Hà Nội",
          "Hà Nội",
          "Hà Nội",
          "Hà Nội",
          "Hà Nội",
          "Hà Nội",
          "Hà Nội",
          "Hà Nội",
          "Hà Nội",
          "Hà Nội",
          "Hà Nội",
          "Hà Nội",
          "Hà Nội",
          "Hà Nội",
          "Hà Nội",
          "Hà Nội",
          "Hà Nội",
          "Hà Nội",
          "Hà Nội",
          "Hà Nội",
          "Hà Nội",
          "Hà Nội",
          "Hà Nội",
          "Hà Nội",
          "Hà Nội",
          "Hà Nội",
          "Hà Nội",
          "Hà Nội",
          "Hà Nội",
          "Hà Nội",
          "Hà Nội",
          "Hà Nội",
          "Hà Nội",
          "Hà Nội",
          "Hà Nội",
          "Hà Nội",
          "Hà Nội",
          "Hà Nội",
          "Hà Nội",
          "Đà Nẵng",
          "Đà Nẵng",
          "Đà Nẵng",
          "Đà Nẵng",
          "Đà Nẵng",
          "Đà Nẵng",
          "Đà Nẵng",
          "Đà Nẵng",
          "Đà Nẵng",
          "Đà Nẵng",
          "Đà Nẵng",
          "Đà Nẵng",
          "Đà Nẵng",
          "Đà Nẵng",
          "Đà Nẵng",
          "Đà Nẵng",
          "Đà Nẵng",
          "Đà Nẵng",
          "Đà Nẵng",
          "Đà Nẵng",
          "Đà Nẵng",
          "Đà Nẵng",
          "Đà Nẵng",
          "Đà Nẵng",
          "Đà Nẵng",
          "Đà Nẵng",
          "Đà Nẵng",
          "Đà Nẵng",
          "Đà Nẵng",
          "Đà Nẵng",
          "Đà Nẵng",
          "Đà Nẵng",
          "Đà Nẵng",
          "Đà Nẵng",
          "Đà Nẵng",
          "Đà Nẵng",
          "Đà Nẵng",
          "Đà Nẵng",
          "Đà Nẵng",
          "Đà Nẵng",
          "Đà Nẵng",
          "Đà Nẵng",
          "Đà Nẵng",
          "Đà Nẵng",
          "Đà Nẵng",
          "Đà Nẵng",
          "Đà Nẵng",
          "Đà Nẵng",
          "Đà Nẵng",
          "Đà Nẵng",
          "Đà Nẵng",
          "Đà Nẵng",
          "Đà Nẵng",
          "Đà Nẵng",
          "Đà Nẵng",
          "Đà Nẵng",
          "Đà Nẵng",
          "Đà Nẵng",
          "Đà Nẵng",
          "Đà Nẵng",
          "Đà Nẵng",
          "Đà Nẵng",
          "Đà Nẵng",
          "Đà Nẵng",
          "Đà Nẵng",
          "Đà Nẵng",
          "Đà Nẵng",
          "Đà Nẵng",
          "Đà Nẵng",
          "Đà Nẵng",
          "Đà Nẵng",
          "Đà Nẵng",
          "Đà Nẵng",
          "Đà Nẵng",
          "Đà Nẵng",
          "Đà Nẵng",
          "Đà Nẵng",
          "Đà Nẵng",
          "Đà Nẵng",
          "Đà Nẵng",
          "Đà Nẵng",
          "Đà Nẵng",
          "Đà Nẵng",
          "Đà Nẵng",
          "Đà Nẵng",
          "Đà Nẵng",
          "Đà Nẵng",
          "Đà Nẵng",
          "Đà Nẵng",
          "Đà Nẵng",
          "Đà Nẵng",
          "Đà Nẵng",
          "Đà Nẵng",
          "Đà Nẵng",
          "Đà Nẵng",
          "Đà Nẵng",
          "Đà Nẵng",
          "Đà Nẵng",
          "Đà Nẵng",
          "Đà Nẵng",
          "Đà Nẵng",
          "Đà Nẵng",
          "Đà Nẵng",
          "Đà Nẵng",
          "Đà Nẵng",
          "Đà Nẵng",
          "Đà Nẵng",
          "Đà Nẵng",
          "Đà Nẵng",
          "Đà Nẵng",
          "Đà Nẵng",
          "Đà Nẵng",
          "Đà Nẵng",
          "Đà Nẵng",
          "Đà Nẵng",
          "Đà Nẵng",
          "Đà Nẵng",
          "Đà Nẵng",
          "Đà Nẵng",
          "Đà Nẵng",
          "Đà Nẵng",
          "Đà Nẵng",
          "Đà Nẵng",
          "Đà Nẵng",
          "Đà Nẵng",
          "Đà Nẵng",
          "Đà Nẵng",
          "Đà Nẵng",
          "Đà Nẵng",
          "Đà Nẵng",
          "Nha Trang",
          "Nha Trang",
          "Nha Trang",
          "Nha Trang",
          "Nha Trang",
          "Nha Trang",
          "Nha Trang",
          "Nha Trang",
          "Nha Trang",
          "Nha Trang",
          "Nha Trang",
          "Nha Trang",
          "Nha Trang",
          "Nha Trang",
          "Nha Trang",
          "Nha Trang",
          "Nha Trang",
          "Nha Trang",
          "Nha Trang",
          "Nha Trang",
          "Nha Trang",
          "Nha Trang",
          "Nha Trang",
          "Nha Trang",
          "Nha Trang",
          "Nha Trang",
          "Nha Trang",
          "Nha Trang",
          "Nha Trang",
          "Nha Trang",
          "Nha Trang",
          "Nha Trang",
          "Nha Trang",
          "Nha Trang",
          "Nha Trang",
          "Nha Trang",
          "Nha Trang",
          "Nha Trang",
          "Nha Trang",
          "Nha Trang",
          "Nha Trang",
          "Nha Trang",
          "Nha Trang",
          "Nha Trang",
          "Nha Trang",
          "Nha Trang",
          "Nha Trang",
          "Nha Trang",
          "Nha Trang",
          "Nha Trang",
          "Nha Trang",
          "Nha Trang",
          "Nha Trang",
          "Nha Trang",
          "Nha Trang",
          "Nha Trang",
          "Nha Trang",
          "Nha Trang",
          "Nha Trang",
          "Nha Trang",
          "Nha Trang",
          "Nha Trang",
          "Nha Trang",
          "Nha Trang",
          "Nha Trang",
          "Nha Trang",
          "Nha Trang",
          "Nha Trang",
          "Nha Trang",
          "Nha Trang",
          "Nha Trang",
          "Nha Trang",
          "Nha Trang",
          "Nha Trang",
          "Nha Trang",
          "Nha Trang",
          "Nha Trang",
          "Nha Trang",
          "Nha Trang",
          "Nha Trang",
          "Nha Trang",
          "Nha Trang",
          "Nha Trang",
          "Nha Trang",
          "Nha Trang",
          "Nha Trang",
          "Nha Trang",
          "Nha Trang",
          "Nha Trang",
          "Nha Trang",
          "Nha Trang",
          "Nha Trang",
          "Nha Trang",
          "Nha Trang",
          "Nha Trang",
          "Nha Trang",
          "Nha Trang",
          "Nha Trang",
          "Nha Trang",
          "Nha Trang",
          "Nha Trang",
          "Nha Trang",
          "Nha Trang",
          "Nha Trang",
          "Nha Trang",
          "Nha Trang",
          "Nha Trang",
          "Nha Trang",
          "Nha Trang",
          "Nha Trang",
          "Nha Trang",
          "Nha Trang",
          "Nha Trang",
          "Nha Trang",
          "Nha Trang",
          "Nha Trang",
          "Nha Trang",
          "Nha Trang",
          "Nha Trang",
          "Nha Trang",
          "Nha Trang",
          "Nha Trang",
          "Nha Trang",
          "Nha Trang",
          "Nha Trang",
          "Nha Trang",
          "Nha Trang",
          "Nha Trang",
          "Nha Trang",
          "Nha Trang",
          "TP.HCM",
          "TP.HCM",
          "TP.HCM",
          "TP.HCM",
          "TP.HCM",
          "TP.HCM",
          "TP.HCM",
          "TP.HCM",
          "TP.HCM",
          "TP.HCM",
          "TP.HCM",
          "TP.HCM",
          "TP.HCM",
          "TP.HCM",
          "TP.HCM",
          "TP.HCM",
          "TP.HCM",
          "TP.HCM",
          "TP.HCM",
          "TP.HCM",
          "TP.HCM",
          "TP.HCM",
          "TP.HCM",
          "TP.HCM",
          "TP.HCM",
          "TP.HCM",
          "TP.HCM",
          "TP.HCM",
          "TP.HCM",
          "TP.HCM",
          "TP.HCM",
          "TP.HCM",
          "TP.HCM",
          "TP.HCM",
          "TP.HCM",
          "TP.HCM",
          "TP.HCM",
          "TP.HCM",
          "TP.HCM",
          "TP.HCM",
          "TP.HCM",
          "TP.HCM",
          "TP.HCM",
          "TP.HCM",
          "TP.HCM",
          "TP.HCM",
          "TP.HCM",
          "TP.HCM",
          "TP.HCM",
          "TP.HCM",
          "TP.HCM",
          "TP.HCM",
          "TP.HCM",
          "TP.HCM",
          "TP.HCM",
          "TP.HCM",
          "TP.HCM",
          "TP.HCM",
          "TP.HCM",
          "TP.HCM",
          "TP.HCM",
          "TP.HCM",
          "TP.HCM",
          "TP.HCM",
          "TP.HCM",
          "TP.HCM",
          "TP.HCM",
          "TP.HCM",
          "TP.HCM",
          "TP.HCM",
          "TP.HCM",
          "TP.HCM",
          "TP.HCM",
          "TP.HCM",
          "TP.HCM",
          "TP.HCM",
          "TP.HCM",
          "TP.HCM",
          "TP.HCM",
          "TP.HCM",
          "TP.HCM",
          "TP.HCM",
          "TP.HCM",
          "TP.HCM",
          "TP.HCM",
          "TP.HCM",
          "TP.HCM",
          "TP.HCM",
          "TP.HCM",
          "TP.HCM",
          "TP.HCM",
          "TP.HCM",
          "TP.HCM",
          "TP.HCM",
          "TP.HCM",
          "TP.HCM",
          "TP.HCM",
          "TP.HCM",
          "TP.HCM",
          "TP.HCM",
          "TP.HCM",
          "TP.HCM",
          "TP.HCM",
          "TP.HCM",
          "TP.HCM",
          "TP.HCM",
          "TP.HCM",
          "TP.HCM",
          "TP.HCM",
          "TP.HCM",
          "TP.HCM",
          "TP.HCM",
          "TP.HCM",
          "TP.HCM",
          "TP.HCM",
          "TP.HCM",
          "TP.HCM",
          "TP.HCM",
          "TP.HCM",
          "TP.HCM",
          "TP.HCM",
          "TP.HCM",
          "TP.HCM",
          "TP.HCM",
          "TP.HCM",
          "TP.HCM",
          "TP.HCM",
          "TP.HCM",
          "TP.HCM",
          "TP.HCM",
          "Cần Thơ",
          "Cần Thơ",
          "Cần Thơ",
          "Cần Thơ",
          "Cần Thơ",
          "Cần Thơ",
          "Cần Thơ",
          "Cần Thơ",
          "Cần Thơ",
          "Cần Thơ",
          "Cần Thơ",
          "Cần Thơ",
          "Cần Thơ",
          "Cần Thơ",
          "Cần Thơ",
          "Cần Thơ",
          "Cần Thơ",
          "Cần Thơ",
          "Cần Thơ",
          "Cần Thơ",
          "Cần Thơ",
          "Cần Thơ",
          "Cần Thơ",
          "Cần Thơ",
          "Cần Thơ",
          "Cần Thơ",
          "Cần Thơ",
          "Cần Thơ",
          "Cần Thơ",
          "Cần Thơ",
          "Cần Thơ",
          "Cần Thơ",
          "Cần Thơ",
          "Cần Thơ",
          "Cần Thơ",
          "Cần Thơ",
          "Cần Thơ",
          "Cần Thơ",
          "Cần Thơ",
          "Cần Thơ",
          "Cần Thơ",
          "Cần Thơ",
          "Cần Thơ",
          "Cần Thơ",
          "Cần Thơ",
          "Cần Thơ",
          "Cần Thơ",
          "Cần Thơ",
          "Cần Thơ",
          "Cần Thơ",
          "Cần Thơ",
          "Cần Thơ",
          "Cần Thơ",
          "Cần Thơ",
          "Cần Thơ",
          "Cần Thơ",
          "Cần Thơ",
          "Cần Thơ",
          "Cần Thơ",
          "Cần Thơ",
          "Cần Thơ",
          "Cần Thơ",
          "Cần Thơ",
          "Cần Thơ",
          "Cần Thơ",
          "Cần Thơ",
          "Cần Thơ",
          "Cần Thơ",
          "Cần Thơ",
          "Cần Thơ",
          "Cần Thơ",
          "Cần Thơ",
          "Cần Thơ",
          "Cần Thơ",
          "Cần Thơ",
          "Cần Thơ",
          "Cần Thơ",
          "Cần Thơ",
          "Cần Thơ",
          "Cần Thơ",
          "Cần Thơ",
          "Cần Thơ",
          "Cần Thơ",
          "Cần Thơ",
          "Cần Thơ",
          "Cần Thơ",
          "Cần Thơ",
          "Cần Thơ",
          "Cần Thơ",
          "Cần Thơ",
          "Cần Thơ",
          "Cần Thơ",
          "Cần Thơ",
          "Cần Thơ",
          "Cần Thơ",
          "Cần Thơ",
          "Cần Thơ",
          "Cần Thơ",
          "Cần Thơ",
          "Cần Thơ",
          "Cần Thơ",
          "Cần Thơ",
          "Cần Thơ",
          "Cần Thơ",
          "Cần Thơ",
          "Cần Thơ",
          "Cần Thơ",
          "Cần Thơ",
          "Cần Thơ",
          "Cần Thơ",
          "Cần Thơ",
          "Cần Thơ",
          "Cần Thơ",
          "Cần Thơ",
          "Cần Thơ",
          "Cần Thơ",
          "Cần Thơ",
          "Cần Thơ",
          "Cần Thơ",
          "Cần Thơ",
          "Cần Thơ",
          "Cần Thơ",
          "Cần Thơ",
          "Cần Thơ",
          "Cần Thơ",
          "Cần Thơ",
          "Cần Thơ",
          "Cần Thơ",
          "Cần Thơ",
          "Cần Thơ",
          "Bình Thuận",
          "Bình Thuận",
          "Bình Thuận",
          "Bình Thuận",
          "Bình Thuận",
          "Bình Thuận",
          "Bình Thuận",
          "Bình Thuận",
          "Bình Thuận",
          "Bình Thuận",
          "Bình Thuận",
          "Bình Thuận",
          "Bình Thuận",
          "Bình Thuận",
          "Bình Thuận",
          "Bình Thuận",
          "Bình Thuận",
          "Bình Thuận",
          "Bình Thuận",
          "Bình Thuận",
          "Bình Thuận",
          "Bình Thuận",
          "Bình Thuận",
          "Bình Thuận",
          "Bình Thuận",
          "Bình Thuận",
          "Bình Thuận",
          "Bình Thuận",
          "Bình Thuận",
          "Bình Thuận",
          "Bình Thuận",
          "Bình Thuận",
          "Bình Thuận",
          "Bình Thuận",
          "Bình Thuận",
          "Bình Thuận",
          "Bình Thuận",
          "Bình Thuận",
          "Bình Thuận",
          "Bình Thuận",
          "Bình Thuận",
          "Bình Thuận",
          "Bình Thuận",
          "Bình Thuận",
          "Bình Thuận",
          "Bình Thuận",
          "Bình Thuận",
          "Bình Thuận",
          "Bình Thuận",
          "Bình Thuận",
          "Bình Thuận",
          "Bình Thuận",
          "Bình Thuận",
          "Bình Thuận",
          "Bình Thuận",
          "Bình Thuận",
          "Bình Thuận",
          "Bình Thuận",
          "Bình Thuận",
          "Bình Thuận",
          "Bình Thuận",
          "Bình Thuận",
          "Bình Thuận",
          "Bình Thuận",
          "Bình Thuận",
          "Bình Thuận",
          "Bình Thuận",
          "Bình Thuận",
          "Bình Thuận",
          "Bình Thuận",
          "Bình Thuận",
          "Bình Thuận",
          "Bình Thuận",
          "Bình Thuận",
          "Bình Thuận",
          "Bình Thuận",
          "Bình Thuận",
          "Bình Thuận",
          "Bình Thuận",
          "Bình Thuận",
          "Bình Thuận",
          "Bình Thuận",
          "Bình Thuận",
          "Bình Thuận",
          "Bình Thuận",
          "Bình Thuận",
          "Bình Thuận",
          "Bình Thuận",
          "Bình Thuận",
          "Bình Thuận",
          "Bình Thuận",
          "Bình Thuận",
          "Bình Thuận",
          "Bình Thuận",
          "Bình Thuận",
          "Bình Thuận",
          "Bình Thuận",
          "Bình Thuận",
          "Bình Thuận",
          "Bình Thuận",
          "Bình Thuận",
          "Bình Thuận",
          "Bình Thuận",
          "Bình Thuận",
          "Bình Thuận",
          "Bình Thuận",
          "Bình Thuận",
          "Bình Thuận",
          "Bình Thuận",
          "Bình Thuận",
          "Bình Thuận",
          "Bình Thuận",
          "Bình Thuận",
          "Bình Thuận",
          "Bình Thuận",
          "Bình Thuận",
          "Bình Thuận",
          "Bình Thuận",
          "Bình Thuận",
          "Bình Thuận",
          "Bình Thuận",
          "Bình Thuận",
          "Bình Thuận",
          "Bình Thuận",
          "Bình Thuận",
          "Bình Thuận",
          "Bình Thuận",
          "Bình Thuận",
          "Bình Thuận",
          "Bình Thuận",
          "Ninh Thuận",
          "Ninh Thuận",
          "Ninh Thuận",
          "Ninh Thuận",
          "Ninh Thuận",
          "Ninh Thuận",
          "Ninh Thuận",
          "Ninh Thuận",
          "Ninh Thuận",
          "Ninh Thuận",
          "Ninh Thuận",
          "Ninh Thuận",
          "Ninh Thuận",
          "Ninh Thuận",
          "Ninh Thuận",
          "Ninh Thuận",
          "Ninh Thuận",
          "Ninh Thuận",
          "Ninh Thuận",
          "Ninh Thuận",
          "Ninh Thuận",
          "Ninh Thuận",
          "Ninh Thuận",
          "Ninh Thuận",
          "Ninh Thuận",
          "Ninh Thuận",
          "Ninh Thuận",
          "Ninh Thuận",
          "Ninh Thuận",
          "Ninh Thuận",
          "Ninh Thuận",
          "Ninh Thuận",
          "Ninh Thuận",
          "Ninh Thuận",
          "Ninh Thuận",
          "Ninh Thuận",
          "Ninh Thuận",
          "Ninh Thuận",
          "Ninh Thuận",
          "Ninh Thuận",
          "Ninh Thuận",
          "Ninh Thuận",
          "Ninh Thuận",
          "Ninh Thuận",
          "Ninh Thuận",
          "Ninh Thuận",
          "Ninh Thuận",
          "Ninh Thuận",
          "Ninh Thuận",
          "Ninh Thuận",
          "Ninh Thuận",
          "Ninh Thuận",
          "Ninh Thuận",
          "Ninh Thuận",
          "Ninh Thuận",
          "Ninh Thuận",
          "Ninh Thuận",
          "Ninh Thuận",
          "Ninh Thuận",
          "Ninh Thuận",
          "Ninh Thuận",
          "Ninh Thuận",
          "Ninh Thuận",
          "Ninh Thuận",
          "Ninh Thuận",
          "Ninh Thuận",
          "Ninh Thuận",
          "Ninh Thuận",
          "Ninh Thuận",
          "Ninh Thuận",
          "Ninh Thuận",
          "Ninh Thuận",
          "Ninh Thuận",
          "Ninh Thuận",
          "Ninh Thuận",
          "Ninh Thuận",
          "Ninh Thuận",
          "Ninh Thuận",
          "Ninh Thuận",
          "Ninh Thuận",
          "Ninh Thuận",
          "Ninh Thuận",
          "Ninh Thuận",
          "Ninh Thuận",
          "Ninh Thuận",
          "Ninh Thuận",
          "Ninh Thuận",
          "Ninh Thuận",
          "Ninh Thuận",
          "Ninh Thuận",
          "Ninh Thuận",
          "Ninh Thuận",
          "Ninh Thuận",
          "Ninh Thuận",
          "Ninh Thuận",
          "Ninh Thuận",
          "Ninh Thuận",
          "Ninh Thuận",
          "Ninh Thuận",
          "Ninh Thuận",
          "Ninh Thuận",
          "Ninh Thuận",
          "Ninh Thuận",
          "Ninh Thuận",
          "Ninh Thuận",
          "Ninh Thuận",
          "Ninh Thuận",
          "Ninh Thuận",
          "Ninh Thuận",
          "Ninh Thuận",
          "Ninh Thuận",
          "Ninh Thuận",
          "Ninh Thuận",
          "Ninh Thuận",
          "Ninh Thuận",
          "Ninh Thuận",
          "Ninh Thuận",
          "Ninh Thuận",
          "Ninh Thuận",
          "Ninh Thuận",
          "Ninh Thuận",
          "Ninh Thuận",
          "Ninh Thuận",
          "Ninh Thuận",
          "Ninh Thuận",
          "Ninh Thuận",
          "Ninh Thuận",
          "Ninh Thuận",
          "Ninh Thuận",
          "Ninh Thuận",
          "Huế",
          "Huế",
          "Huế",
          "Huế",
          "Huế",
          "Huế",
          "Huế",
          "Huế",
          "Huế",
          "Huế",
          "Huế",
          "Huế",
          "Huế",
          "Huế",
          "Huế",
          "Huế",
          "Huế",
          "Huế",
          "Huế",
          "Huế",
          "Huế",
          "Huế",
          "Huế",
          "Huế",
          "Huế",
          "Huế",
          "Huế",
          "Huế",
          "Huế",
          "Huế",
          "Huế",
          "Huế",
          "Huế",
          "Huế",
          "Huế",
          "Huế",
          "Huế",
          "Huế",
          "Huế",
          "Huế",
          "Huế",
          "Huế",
          "Huế",
          "Huế",
          "Huế",
          "Huế",
          "Huế",
          "Huế",
          "Huế",
          "Huế",
          "Huế",
          "Huế",
          "Huế",
          "Huế",
          "Huế",
          "Huế",
          "Huế",
          "Huế",
          "Huế",
          "Huế",
          "Huế",
          "Huế",
          "Huế",
          "Huế",
          "Huế",
          "Huế",
          "Huế",
          "Huế",
          "Huế",
          "Huế",
          "Huế",
          "Huế",
          "Huế",
          "Huế",
          "Huế",
          "Huế",
          "Huế",
          "Huế",
          "Huế",
          "Huế",
          "Huế",
          "Huế",
          "Huế",
          "Huế",
          "Huế",
          "Huế",
          "Huế",
          "Huế",
          "Huế",
          "Huế",
          "Huế",
          "Huế",
          "Huế",
          "Huế",
          "Huế",
          "Huế",
          "Huế",
          "Huế",
          "Huế",
          "Huế",
          "Huế",
          "Huế",
          "Huế",
          "Huế",
          "Huế",
          "Huế",
          "Huế",
          "Huế",
          "Huế",
          "Huế",
          "Huế",
          "Huế",
          "Huế",
          "Huế",
          "Huế",
          "Huế",
          "Huế",
          "Huế",
          "Huế",
          "Huế",
          "Huế",
          "Huế",
          "Huế",
          "Huế",
          "Huế",
          "Huế",
          "Huế",
          "Huế",
          "Huế",
          "Huế",
          "Hải Phòng",
          "Hải Phòng",
          "Hải Phòng",
          "Hải Phòng",
          "Hải Phòng",
          "Hải Phòng",
          "Hải Phòng",
          "Hải Phòng",
          "Hải Phòng",
          "Hải Phòng",
          "Hải Phòng",
          "Hải Phòng",
          "Hải Phòng",
          "Hải Phòng",
          "Hải Phòng",
          "Hải Phòng",
          "Hải Phòng",
          "Hải Phòng",
          "Hải Phòng",
          "Hải Phòng",
          "Hải Phòng",
          "Hải Phòng",
          "Hải Phòng",
          "Hải Phòng",
          "Hải Phòng",
          "Hải Phòng",
          "Hải Phòng",
          "Hải Phòng",
          "Hải Phòng",
          "Hải Phòng",
          "Hải Phòng",
          "Hải Phòng",
          "Hải Phòng",
          "Hải Phòng",
          "Hải Phòng",
          "Hải Phòng",
          "Hải Phòng",
          "Hải Phòng",
          "Hải Phòng",
          "Hải Phòng",
          "Hải Phòng",
          "Hải Phòng",
          "Hải Phòng",
          "Hải Phòng",
          "Hải Phòng",
          "Hải Phòng",
          "Hải Phòng",
          "Hải Phòng",
          "Hải Phòng",
          "Hải Phòng",
          "Hải Phòng",
          "Hải Phòng",
          "Hải Phòng",
          "Hải Phòng",
          "Hải Phòng",
          "Hải Phòng",
          "Hải Phòng",
          "Hải Phòng",
          "Hải Phòng",
          "Hải Phòng",
          "Hải Phòng",
          "Hải Phòng",
          "Hải Phòng",
          "Hải Phòng",
          "Hải Phòng",
          "Hải Phòng",
          "Hải Phòng",
          "Hải Phòng",
          "Hải Phòng",
          "Hải Phòng",
          "Hải Phòng",
          "Hải Phòng",
          "Hải Phòng",
          "Hải Phòng",
          "Hải Phòng",
          "Hải Phòng",
          "Hải Phòng",
          "Hải Phòng",
          "Hải Phòng",
          "Hải Phòng",
          "Hải Phòng",
          "Hải Phòng",
          "Hải Phòng",
          "Hải Phòng",
          "Hải Phòng",
          "Hải Phòng",
          "Hải Phòng",
          "Hải Phòng",
          "Hải Phòng",
          "Hải Phòng",
          "Hải Phòng",
          "Hải Phòng",
          "Hải Phòng",
          "Hải Phòng",
          "Hải Phòng",
          "Hải Phòng",
          "Hải Phòng",
          "Hải Phòng",
          "Hải Phòng",
          "Hải Phòng",
          "Hải Phòng",
          "Hải Phòng",
          "Hải Phòng",
          "Hải Phòng",
          "Hải Phòng",
          "Hải Phòng",
          "Hải Phòng",
          "Hải Phòng",
          "Hải Phòng",
          "Hải Phòng",
          "Hải Phòng",
          "Hải Phòng",
          "Hải Phòng",
          "Hải Phòng",
          "Hải Phòng",
          "Hải Phòng",
          "Hải Phòng",
          "Hải Phòng",
          "Hải Phòng",
          "Hải Phòng",
          "Hải Phòng",
          "Hải Phòng",
          "Hải Phòng",
          "Hải Phòng",
          "Hải Phòng",
          "Hải Phòng",
          "Hải Phòng",
          "Hải Phòng",
          "Hải Phòng",
          "Hải Phòng",
          "Điện Biên",
          "Điện Biên",
          "Điện Biên",
          "Điện Biên",
          "Điện Biên",
          "Điện Biên",
          "Điện Biên",
          "Điện Biên",
          "Điện Biên",
          "Điện Biên",
          "Điện Biên",
          "Điện Biên",
          "Điện Biên",
          "Điện Biên",
          "Điện Biên",
          "Điện Biên",
          "Điện Biên",
          "Điện Biên",
          "Điện Biên",
          "Điện Biên",
          "Điện Biên",
          "Điện Biên",
          "Điện Biên",
          "Điện Biên",
          "Điện Biên",
          "Điện Biên",
          "Điện Biên",
          "Điện Biên",
          "Điện Biên",
          "Điện Biên",
          "Điện Biên",
          "Điện Biên",
          "Điện Biên",
          "Điện Biên",
          "Điện Biên",
          "Điện Biên",
          "Điện Biên",
          "Điện Biên",
          "Điện Biên",
          "Điện Biên",
          "Điện Biên",
          "Điện Biên",
          "Điện Biên",
          "Điện Biên",
          "Điện Biên",
          "Điện Biên",
          "Điện Biên",
          "Điện Biên",
          "Điện Biên",
          "Điện Biên",
          "Điện Biên",
          "Điện Biên",
          "Điện Biên",
          "Điện Biên",
          "Điện Biên",
          "Điện Biên",
          "Điện Biên",
          "Điện Biên",
          "Điện Biên",
          "Điện Biên",
          "Điện Biên",
          "Điện Biên",
          "Điện Biên",
          "Điện Biên",
          "Điện Biên",
          "Điện Biên",
          "Điện Biên",
          "Điện Biên",
          "Điện Biên",
          "Điện Biên",
          "Điện Biên",
          "Điện Biên",
          "Điện Biên",
          "Điện Biên",
          "Điện Biên",
          "Điện Biên",
          "Điện Biên",
          "Điện Biên",
          "Điện Biên",
          "Điện Biên",
          "Điện Biên",
          "Điện Biên",
          "Điện Biên",
          "Điện Biên",
          "Điện Biên",
          "Điện Biên",
          "Điện Biên",
          "Điện Biên",
          "Điện Biên",
          "Điện Biên",
          "Điện Biên",
          "Điện Biên",
          "Điện Biên",
          "Điện Biên",
          "Điện Biên",
          "Điện Biên",
          "Điện Biên",
          "Điện Biên",
          "Điện Biên",
          "Điện Biên",
          "Điện Biên",
          "Điện Biên",
          "Điện Biên",
          "Điện Biên",
          "Điện Biên",
          "Điện Biên",
          "Điện Biên",
          "Điện Biên",
          "Điện Biên",
          "Điện Biên",
          "Điện Biên",
          "Điện Biên",
          "Điện Biên",
          "Điện Biên",
          "Điện Biên",
          "Điện Biên",
          "Điện Biên",
          "Điện Biên",
          "Điện Biên",
          "Điện Biên",
          "Điện Biên",
          "Điện Biên",
          "Điện Biên",
          "Điện Biên",
          "Điện Biên",
          "Điện Biên",
          "Điện Biên",
          "Điện Biên",
          "Điện Biên",
          "Điện Biên",
          "Quảng Ninh",
          "Quảng Ninh",
          "Quảng Ninh",
          "Quảng Ninh",
          "Quảng Ninh",
          "Quảng Ninh",
          "Quảng Ninh",
          "Quảng Ninh",
          "Quảng Ninh",
          "Quảng Ninh",
          "Quảng Ninh",
          "Quảng Ninh",
          "Quảng Ninh",
          "Quảng Ninh",
          "Quảng Ninh",
          "Quảng Ninh",
          "Quảng Ninh",
          "Quảng Ninh",
          "Quảng Ninh",
          "Quảng Ninh",
          "Quảng Ninh",
          "Quảng Ninh",
          "Quảng Ninh",
          "Quảng Ninh",
          "Quảng Ninh",
          "Quảng Ninh",
          "Quảng Ninh",
          "Quảng Ninh",
          "Quảng Ninh",
          "Quảng Ninh",
          "Quảng Ninh",
          "Quảng Ninh",
          "Quảng Ninh",
          "Quảng Ninh",
          "Quảng Ninh",
          "Quảng Ninh",
          "Quảng Ninh",
          "Quảng Ninh",
          "Quảng Ninh",
          "Quảng Ninh",
          "Quảng Ninh",
          "Quảng Ninh",
          "Quảng Ninh",
          "Quảng Ninh",
          "Quảng Ninh",
          "Quảng Ninh",
          "Quảng Ninh",
          "Quảng Ninh",
          "Quảng Ninh",
          "Quảng Ninh",
          "Quảng Ninh",
          "Quảng Ninh",
          "Quảng Ninh",
          "Quảng Ninh",
          "Quảng Ninh",
          "Quảng Ninh",
          "Quảng Ninh",
          "Quảng Ninh",
          "Quảng Ninh",
          "Quảng Ninh",
          "Quảng Ninh",
          "Quảng Ninh",
          "Quảng Ninh",
          "Quảng Ninh",
          "Quảng Ninh",
          "Quảng Ninh",
          "Quảng Ninh",
          "Quảng Ninh",
          "Quảng Ninh",
          "Quảng Ninh",
          "Quảng Ninh",
          "Quảng Ninh",
          "Quảng Ninh",
          "Quảng Ninh",
          "Quảng Ninh",
          "Quảng Ninh",
          "Quảng Ninh",
          "Quảng Ninh",
          "Quảng Ninh",
          "Quảng Ninh",
          "Quảng Ninh",
          "Quảng Ninh",
          "Quảng Ninh",
          "Quảng Ninh",
          "Quảng Ninh",
          "Quảng Ninh",
          "Quảng Ninh",
          "Quảng Ninh",
          "Quảng Ninh",
          "Quảng Ninh",
          "Quảng Ninh",
          "Quảng Ninh",
          "Quảng Ninh",
          "Quảng Ninh",
          "Quảng Ninh",
          "Quảng Ninh",
          "Quảng Ninh",
          "Quảng Ninh",
          "Quảng Ninh",
          "Quảng Ninh",
          "Quảng Ninh",
          "Quảng Ninh",
          "Quảng Ninh",
          "Quảng Ninh",
          "Quảng Ninh",
          "Quảng Ninh",
          "Quảng Ninh",
          "Quảng Ninh",
          "Quảng Ninh",
          "Quảng Ninh",
          "Quảng Ninh",
          "Quảng Ninh",
          "Quảng Ninh",
          "Quảng Ninh",
          "Quảng Ninh",
          "Quảng Ninh",
          "Quảng Ninh",
          "Quảng Ninh",
          "Quảng Ninh",
          "Quảng Ninh",
          "Quảng Ninh",
          "Quảng Ninh",
          "Quảng Ninh",
          "Quảng Ninh",
          "Quảng Ninh",
          "Quảng Ninh",
          "Quảng Ninh",
          "Quảng Ninh",
          "Quảng Ninh",
          "Quảng Ninh",
          "Đắk Lắk",
          "Đắk Lắk",
          "Đắk Lắk",
          "Đắk Lắk",
          "Đắk Lắk",
          "Đắk Lắk",
          "Đắk Lắk",
          "Đắk Lắk",
          "Đắk Lắk",
          "Đắk Lắk",
          "Đắk Lắk",
          "Đắk Lắk",
          "Đắk Lắk",
          "Đắk Lắk",
          "Đắk Lắk",
          "Đắk Lắk",
          "Đắk Lắk",
          "Đắk Lắk",
          "Đắk Lắk",
          "Đắk Lắk",
          "Đắk Lắk",
          "Đắk Lắk",
          "Đắk Lắk",
          "Đắk Lắk",
          "Đắk Lắk",
          "Đắk Lắk",
          "Đắk Lắk",
          "Đắk Lắk",
          "Đắk Lắk",
          "Đắk Lắk",
          "Đắk Lắk",
          "Đắk Lắk",
          "Đắk Lắk",
          "Đắk Lắk",
          "Đắk Lắk",
          "Đắk Lắk",
          "Đắk Lắk",
          "Đắk Lắk",
          "Đắk Lắk",
          "Đắk Lắk",
          "Đắk Lắk",
          "Đắk Lắk",
          "Đắk Lắk",
          "Đắk Lắk",
          "Đắk Lắk",
          "Đắk Lắk",
          "Đắk Lắk",
          "Đắk Lắk",
          "Đắk Lắk",
          "Đắk Lắk",
          "Đắk Lắk",
          "Đắk Lắk",
          "Đắk Lắk",
          "Đắk Lắk",
          "Đắk Lắk",
          "Đắk Lắk",
          "Đắk Lắk",
          "Đắk Lắk",
          "Đắk Lắk",
          "Đắk Lắk",
          "Đắk Lắk",
          "Đắk Lắk",
          "Đắk Lắk",
          "Đắk Lắk",
          "Đắk Lắk",
          "Đắk Lắk",
          "Đắk Lắk",
          "Đắk Lắk",
          "Đắk Lắk",
          "Đắk Lắk",
          "Đắk Lắk",
          "Đắk Lắk",
          "Đắk Lắk",
          "Đắk Lắk",
          "Đắk Lắk",
          "Đắk Lắk",
          "Đắk Lắk",
          "Đắk Lắk",
          "Đắk Lắk",
          "Đắk Lắk",
          "Đắk Lắk",
          "Đắk Lắk",
          "Đắk Lắk",
          "Đắk Lắk",
          "Đắk Lắk",
          "Đắk Lắk",
          "Đắk Lắk",
          "Đắk Lắk",
          "Đắk Lắk",
          "Đắk Lắk",
          "Đắk Lắk",
          "Đắk Lắk",
          "Đắk Lắk",
          "Đắk Lắk",
          "Đắk Lắk",
          "Đắk Lắk",
          "Đắk Lắk",
          "Đắk Lắk",
          "Đắk Lắk",
          "Đắk Lắk",
          "Đắk Lắk",
          "Đắk Lắk",
          "Đắk Lắk",
          "Đắk Lắk",
          "Đắk Lắk",
          "Đắk Lắk",
          "Đắk Lắk",
          "Đắk Lắk",
          "Đắk Lắk",
          "Đắk Lắk",
          "Đắk Lắk",
          "Đắk Lắk",
          "Đắk Lắk",
          "Đắk Lắk",
          "Đắk Lắk",
          "Đắk Lắk",
          "Đắk Lắk",
          "Đắk Lắk",
          "Đắk Lắk",
          "Đắk Lắk",
          "Đắk Lắk",
          "Đắk Lắk",
          "Đắk Lắk",
          "Đắk Lắk",
          "Đắk Lắk",
          "Đắk Lắk",
          "Đắk Lắk",
          "Đắk Lắk",
          "Đắk Lắk",
          "Đắk Lắk"
         ],
         "lat": {
          "bdata": "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",
          "dtype": "f8"
         },
         "legendgroup": "",
         "lon": {
          "bdata": "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",
          "dtype": "f8"
         },
         "marker": {
          "color": {
           "bdata": "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",
           "dtype": "f8"
          },
          "coloraxis": "coloraxis",
          "size": {
           "bdata": "4XoUrkdhI0CF61G4HgUjQK5H4XoUriNAj8L1KFyPLkCamZmZmVk0QJqZmZmZWTNA9ihcj8K1MUBcj8L1KNwxQDMzMzMzsyxA4XoUrkdhLkBI4XoUrkckQMP1KFyPwhtAw/UoXI/CK0C4HoXrUbgdQK5H4XoUridAKVyPwvWoI0CuR+F6FC4rQOxRuB6F6y9AH4XrUbieNEDhehSuR6EyQHsUrkfh+jBAhetRuB6FMEDNzMzMzEwsQIXrUbgehSVAmpmZmZkZJ0B7FK5H4forQEjhehSuRyBAw/UoXI/CJEBxPQrXo3AkQMP1KFyPwipAuB6F61H4MEB7FK5H4XovQMP1KFyPAjBAKVyPwvWoLUApXI/C9agtQPYoXI/C9ShAMzMzMzMzJUBxPQrXo3AgQFK4HoXrUSlAUrgehetRG0BI4XoUrscgQDMzMzMzMylA4XoUrkdhJ0AUrkfhetQyQHsUrkfhejFAmpmZmZkZMUBSuB6F69EuQB+F61G4njBAH4XrUbieKkBSuB6F61EnQFK4HoXr0SBAcT0K16NwKkAzMzMzMzMbQLgehetROCVAzczMzMzMJUBxPQrXo3AsQOxRuB6F6ylAUrgehevRMUDD9Shcj0IxQAAAAAAAADJAhetRuB7FMkD2KFyPwvUpQJqZmZmZmSZAhetRuB4FJUCF61G4HgUrQClcj8L1KB1A4XoUrkfhIUDD9Shcj0IkQMP1KFyPQiZAFK5H4XoUMkC4HoXrUfgzQKRwPQrXYzJAcT0K16OwMECamZmZmZktQDMzMzMzsylAUrgehevRJ0BxPQrXo/AgQPYoXI/CdSpAFK5H4XqUIUCPwvUoXI8jQI/C9ShcDyJA4XoUrkfhJkDhehSuR2EyQArXo3A9CjNA16NwPQqXM0CF61G4HgUzQFyPwvUoXDFAKVyPwvWoJkBSuB6F61EkQOF6FK5HYSVAexSuR+F6K0DXo3A9CtcaQM3MzMzMzBxAexSuR+F6IkCuR+F6FK4uQGZmZmZm5ipA7FG4HoWrMUAAAAAAAIAyQAAAAAAAQDFAPQrXo3C9LkDNzMzMzEwvQD0K16NwvShAZmZmZmbmIUDXo3A9ClcqQD0K16NwvSRApHA9CtejI0BI4XoUrscmQK5H4XoULipArkfhehRuMkA9CtejcD0xQMP1KFyPQjNAZmZmZmbmL0AzMzMzMzMwQOxRuB6F6yxArkfhehQuKUC4HoXrUbgiQBSuR+F6FCxAUrgehetRF0B7FK5H4foiQPYoXI/CdSZAmpmZmZmZLUDhehSuR2EsQEjhehSuRy5ASOF6FK5HL0AK16NwPYowQNejcD0K1y1AAAAAAACAMEBmZmZmZuYrQDMzMzMzsyBAmpmZmZkZKkA9CtejcL0rQK5H4XoULjFAXI/C9SjcM0CuR+F6FC41QOxRuB6F6zdAcT0K16NwNkDhehSuRyExQPYoXI/C9TZAmpmZmZlZNEB7FK5H4TowQArXo3A9Ci9AhetRuB6FJkA9CtejcH0yQK5H4XoUriRA9ihcj8L1JUCkcD0K16MvQHsUrkfh+jNA7FG4HoXrNUBI4XoUrgc3QM3MzMzMzDdAj8L1KFwPNUBSuB6F6xEyQPYoXI/C9S5AexSuR+H6KEBI4XoUrscgQArXo3A9yjBAzczMzMzMKEAAAAAAAIAtQHsUrkfhujJAH4XrUbieM0AfhetRuN4zQEjhehSuRzdAPQrXo3A9MkDNzMzMzIw0QEjhehSuxzRACtejcD2KLUAzMzMzMzMkQMP1KFyPQiFAj8L1KFzPMEDhehSuR2ElQBSuR+F6lCtAj8L1KFyPMkDsUbgehas0QArXo3A9ijhA16NwPQrXMkAfhetRuN4yQLgehetRODNApHA9CtdjNUApXI/C9agyQBSuR+F6lCxAMzMzMzOzJUDNzMzMzIwxQK5H4XoUrihAzczMzMwMNECkcD0K16MyQD0K16NwPTdA16NwPQrXNUCF61G4HoU3QI/C9ShczzRAKVyPwvVoM0CF61G4HgUyQEjhehSuRzJAj8L1KFyPK0DD9Shcj0IpQIXrUbgehTJAPQrXo3C9LUDXo3A9CtcxQHE9CtejcDRAzczMzMxMMEDXo3A9Chc4QArXo3A9SjdA16NwPQqXOECF61G4HoU0QNejcD0K1zRA9ihcj8J1I0BxPQrXo3AnQLgehetROCBAcT0K16OwMUCF61G4HoUkQFyPwvUoXDJAzczMzMyMNEDhehSuR2E2QDMzMzMz8zhAw/UoXI/CNUAzMzMzM/M1QNejcD0KVzZAj8L1KFxPMkDXo3A9ClcoQHsUrkfh+idAMzMzMzMzIkAUrkfhetQxQGZmZmZm5itA7FG4HoXrJUBI4XoUrscyQNejcD0K1zJAMzMzMzNzMkCPwvUoXI83QHsUrkfhejVAcT0K16MwNEAUrkfhepQxQClcj8L1KCpAAAAAAACALkBcj8L1KFwiQM3MzMzMzDBA16NwPQrXIkCuR+F6FC4wQK5H4XoUrjNApHA9CtejM0AfhetRuN42QEjhehSuRzdAMzMzMzNzN0DNzMzMzMw0QMP1KFyPwjFAKVyPwvWoJ0C4HoXrUbgqQNejcD0KVyVAKVyPwvVoMUD2KFyPwnUsQKRwPQrXIzFACtejcD1KMUDhehSuR+E2QNejcD0K1zNACtejcD0KNkDhehSuR+EzQIXrUbgeRThA9ihcj8K1MEA9CtejcL0qQMP1KFyPwihAKVyPwvUoIUAfhetRuF4xQDMzMzMzMzBAhetRuB4FNEA9CtejcD02QFyPwvUonDZAUrgehevRN0AzMzMzMzM1QDMzMzMzMzRAAAAAAAAAN0BSuB6F61E1QClcj8L1KDJAZmZmZmbmLEDhehSuR+EsQM3MzMzMzDNApHA9CtejLkA9CtejcH0wQOxRuB6FKzVAzczMzMzMN0CkcD0K1yM2QEjhehSuBzVAH4XrUbheNkBSuB6F61E1QFyPwvUo3DNAZmZmZmZmLkBmZmZmZuYtQHE9CtejcCFASOF6FK6HMkAzMzMzMzMnQAAAAAAAgC9AUrgeheuRNUAzMzMzM7M1QAAAAAAAgDRAw/UoXI8CNkBcj8L1KBwyQHE9CtejsDVAcT0K16NwNUBSuB6F61EtQHE9Ctej8ClAzczMzMxMJkDD9Shcj8IxQNejcD0KVyhA7FG4HoXrMUBmZmZmZqY0QLgehetR+DZAMzMzMzMzNkDNzMzMzEwyQClcj8L16DRAw/UoXI8CM0BmZmZmZqY1QD0K16Nw/TFAKVyPwvUoLUAzMzMzM7MoQKRwPQrXYzJAZmZmZmbmLEBxPQrXozA1QOF6FK5HYTZACtejcD3KOEAK16NwPYo2QOxRuB6FazZAKVyPwvWoNED2KFyPwvU0QHE9CtejsDJAexSuR+E6MkBcj8L1KFwrQHsUrkfheixAAAAAAACAM0CPwvUoXE8xQHsUrkfhOjJAH4XrUbieN0AUrkfhetQ1QOF6FK5H4TdAexSuR+G6NUAUrkfhepQ1QK5H4XoULjVA7FG4HoXrM0DD9Shcj8IrQD0K16NwvStAmpmZmZmZI0BmZmZmZuYyQOF6FK5H4SlAj8L1KFzPM0AzMzMzMzM2QD0K16NwPTZAH4XrUbgeNkDhehSuR6E2QFyPwvUonDNAhetRuB4FNkBSuB6F61EyQPYoXI/C9SxAuB6F61G4I0AK16NwPQooQOxRuB6FKzJAj8L1KFzPMEDsUbgehWstQHsUrkfh+jNASOF6FK6HM0AUrkfhetQ0QI/C9ShcDzdAFK5H4XoUM0DD9ShcjwI0QIXrUbgehTJA7FG4HoXrK0BSuB6F69EsQOxRuB6F6yZA9ihcj8K1MUAfhetRuJ4lQEjhehSuxzBAPQrXo3D9NUCuR+F6FK41QHsUrkfhejZAFK5H4XpUNkAAAAAAAMA0QM3MzMzMzDZAw/UoXI+CNEAK16NwPYoxQHE9CtejcChAmpmZmZmZKUCPwvUoXI8yQNejcD0K1y5AUrgehetRM0BSuB6F69E1QD0K16NwfThAmpmZmZnZNEApXI/C9ag0QKRwPQrX4zFAhetRuB4FN0C4HoXrUfgyQOxRuB6F6ytAj8L1KFyPLECuR+F6FC4gQPYoXI/CNTJAMzMzMzPzMkCF61G4HsU1QDMzMzMzczdAzczMzMyMNkAK16NwPYo1QClcj8L1KDJA4XoUrkdhMkDNzMzMzEw0QKRwPQrXIzJAuB6F61H4MUBSuB6F61EyQLgehetRuDFAw/UoXI/CM0D2KFyPwrUzQHE9CtejcDVA4XoUrkdhN0DhehSuR+E2QFK4HoXrETNAPQrXo3B9MUBcj8L1KNwyQJqZmZmZmTFAPQrXo3D9MUBxPQrXo3AtQIXrUbgexTBAcT0K16PwKkCamZmZmZkyQI/C9ShcjzBAZmZmZmamM0AfhetRuJ42QOxRuB6FKzZAUrgeheuRMUBxPQrXo7AxQPYoXI/CtTBA9ihcj8K1MUAUrkfhepQyQOxRuB6FKzBAH4XrUbgeL0AUrkfhehQwQFK4HoXrETJAhetRuB4FMEAAAAAAAAA1QM3MzMzMDDZAH4XrUbieNkBmZmZmZmYzQOF6FK5HoTFAhetRuB4FMUAK16NwPUoxQAAAAAAAwDFAhetRuB7FMkAAAAAAAIAwQPYoXI/CdS9A9ihcj8J1MkCamZmZmVkyQFyPwvUoHDZAmpmZmZmZNUBmZmZmZqY2QM3MzMzMDDNA4XoUrkehMUAfhetRuN4xQClcj8L1qDBApHA9CtfjMED2KFyPwvUyQAAAAAAAADFAhetRuB7FMkBxPQrXo/AyQPYoXI/C9TNAKVyPwvWoNUCuR+F6FG42QIXrUbgeBTZA7FG4HoUrNEDsUbgeheswQAAAAAAAwDJA7FG4HoUrMkAfhetRuB4yQOF6FK5HYS1AMzMzMzPzMEDXo3A9ClcvQEjhehSuxzJA16NwPQoXMkAK16NwPQo0QEjhehSuBzdAUrgehevRM0DNzMzMzAwzQOF6FK5HoTJAKVyPwvUoMUC4HoXrUXgzQFK4HoXrkTFAw/UoXI/CL0AK16NwPQouQDMzMzMz8zBApHA9CtdjMkDD9Shcj8IyQPYoXI/CdTRAzczMzMwMNUBmZmZmZqYzQAAAAAAAwDBAhetRuB6FM0C4HoXrUbgwQClcj8L1KDFAXI/C9ShcMUBI4XoUrkcvQOxRuB6F6y1APQrXo3A9MUDsUbgehesxQJqZmZmZmS9Aw/UoXI+CM0CamZmZmdk2QHsUrkfhOjRA4XoUrkfhMUCuR+F6FK4yQFyPwvUoHDBAKVyPwvVoMkB7FK5H4XowQPYoXI/CtTBAH4XrUbgeMUCkcD0K1+MwQArXo3A9CjJAj8L1KFwPM0CPwvUoXI81QOF6FK5HITdAexSuR+H6NUDNzMzMzEwyQM3MzMzMzDFAZmZmZmYmMEDNzMzMzAwzQM3MzMzMzC5AhetRuB6FMEBmZmZmZuYwQHsUrkfheitASOF6FK5HMkC4HoXrUXgyQEjhehSuBzRAXI/C9ShcNUDD9Shcj4I1QPYoXI/CNTZAZmZmZmamMkC4HoXrUbgxQClcj8L1aDNAexSuR+G6MUCuR+F6FC4xQIXrUbgeBTJAhetRuB7FMUDsUbgehSszQArXo3A9CjNAAAAAAACANEDD9Shcj4I1QClcj8L1qDZApHA9CtfjMkAfhetRuJ4xQEjhehSuxzJAmpmZmZmZMUBmZmZmZmYxQBSuR+F6FC1A4XoUrkdhMUD2KFyPwvUsQJqZmZmZWTJAcT0K16OwMEBcj8L1KFwzQDMzMzMz8zRApHA9CtejNUBxPQrXo7AxQHsUrkfhujJA9ihcj8J1MECF61G4HgUyQClcj8L1aDJASOF6FK4HMUAK16NwPQovQB+F61G4HjBASOF6FK4HMkAUrkfhehQwQArXo3A9SjRAzczMzMyMNEDhehSuR+E0QPYoXI/CtTNAuB6F61F4MUAUrkfhetQwQM3MzMzMjDBA7FG4HoXrMUA9CtejcH0yQGZmZmZmZjBAPQrXo3B9MEAfhetRuB4yQClcj8L1KDJArkfhehSuNEA9CtejcH01QEjhehSuBzZAMzMzMzPzM0D2KFyPwvUxQHsUrkfh+jFAMzMzMzOzL0DsUbgehWswQEjhehSuBzNAw/UoXI+CMUDhehSuR+EyQFK4HoXr0TJApHA9CtdjM0BSuB6F65E0QJqZmZmZmTVArkfhehTuNECPwvUoXE81QM3MzMzMDDJApHA9CtfjMkCuR+F6FO4xQM3MzMzMTDFAPQrXo3C9LUCF61G4HgUxQEjhehSuRzBA7FG4HoWrMkAK16NwPcoxQArXo3A9SjNAzczMzMzMNUA9CtejcL0yQJqZmZmZGTNArkfhehSuM0CamZmZmZkwQD0K16NwPTJArkfhehQuMUDXo3A9CtcvQFyPwvUo3C5AuB6F61H4MEDNzMzMzAwyQOxRuB6F6zJAw/UoXI/CM0BSuB6F6xE0QAAAAAAAQDNAuB6F61G4MECamZmZmZkzQArXo3A9ijBAH4XrUbjeMEBmZmZmZqYwQOxRuB6F6y9Aj8L1KFwPLkCuR+F6FK4xQD0K16NwvTFAUrgehesRMECkcD0K12MzQBSuR+F61DRAKVyPwvXoM0CPwvUoXI8yQOF6FK5H4TFAXI/C9ShcL0AfhetRuN4yQM3MzMzMzC9AcT0K16MwMUD2KFyPwjUxQIXrUbgeRTFApHA9CtfjMUCuR+F6FO4yQEjhehSuhzRAXI/C9SicNUBxPQrXozA2QAAAAAAAwDJAXI/C9SjcMkDNzMzMzMwvQOF6FK5H4TJACtejcD0KLkDsUbgehaswQI/C9ShcDzFAzczMzMxMLkBI4XoUrkcyQHsUrkfhujNAexSuR+F6NkAAAAAAAEA4QOF6FK5HYTdACtejcD0KNkAK16NwPcozQM3MzMzMjDJA16NwPQqXNECuR+F6FG4zQMP1KFyPwjJA16NwPQoXMUBI4XoUrkcxQIXrUbgeRTRAhetRuB4FM0BxPQrXo3A1QBSuR+F61DdAw/UoXI9CN0DsUbgehWs0QFyPwvUoHDNAH4XrUbieM0AUrkfhepQyQGZmZmZmZjJACtejcD2KLUCamZmZmZkwQIXrUbgeBSZAUrgehevRMkAAAAAAAAAvQHE9CtejMDNAUrgeheuRNkCF61G4HkU1QJqZmZmZmTNArkfhehSuM0A9CtejcH0wQFK4HoXrUTNASOF6FK7HM0DsUbgehesuQJqZmZmZGS1AcT0K16NwL0AAAAAAAEAyQArXo3A9yjBA4XoUrkehNUDsUbgehWs2QFyPwvUonDdAcT0K16PwNEA9CtejcP0wQEjhehSuhzFASOF6FK5HMECF61G4HsUyQGZmZmZmpjNAFK5H4XoUMEBI4XoUrkctQAAAAAAAwDJAFK5H4XrUMUBI4XoUrsc2QClcj8L1aDZAcT0K16OwN0CF61G4HgU1QK5H4XoULjRA16NwPQrXMkDsUbgehWsyQD0K16NwPTFAMzMzMzNzM0AUrkfhehQwQHE9CtejsDNASOF6FK7HM0DNzMzMzEw0QMP1KFyPgjVAw/UoXI/CN0CF61G4HgU2QHE9CtejsDVAzczMzMwMM0CuR+F6FC40QGZmZmZmZjNAMzMzMzNzMkD2KFyPwnUrQM3MzMzMDDBA9ihcj8L1KkAfhetRuB4zQAAAAAAAQDJAPQrXo3C9NUCamZmZmRk4QK5H4XoUbjVAj8L1KFzPNECPwvUoXM80QFK4HoXrUTJAH4XrUbgeNEA9CtejcH0xQFyPwvUo3C1APQrXo3C9KEAfhetRuF4wQOF6FK5H4TJA9ihcj8J1M0C4HoXrUTgzQFyPwvUo3DRAzczMzMwMNEDXo3A9ChczQI/C9ShcTzVAAAAAAAAAMkAzMzMzM7MyQClcj8L1aDFA7FG4HoXrLkDhehSuR2EuQEjhehSuhzBArkfhehRuMkCkcD0K16MuQKRwPQrXYzRAUrgehevRN0AzMzMzMzM1QNejcD0K1zRAFK5H4XoUM0BmZmZmZiYxQOF6FK5HITVAAAAAAAAAMkB7FK5H4XoxQOxRuB6Fay1A4XoUrkehMECPwvUoXM8yQLgehetReDNAAAAAAAAANkCkcD0K16M3QGZmZmZmZjdA7FG4HoVrNEDsUbgehasyQD0K16NwPTBAMzMzMzPzNECF61G4HkUwQDMzMzMzszBAj8L1KFyPMEB7FK5H4fomQM3MzMzMzDJAexSuR+G6M0B7FK5H4Xo2QAAAAAAAQDhA4XoUrkdhN0AK16NwPQo2QArXo3A9yjNAzczMzMyMMkDXo3A9Cpc0QK5H4XoUbjNAw/UoXI/CMkDXo3A9ChcxQEjhehSuRzFAhetRuB5FNECF61G4HgUzQHE9CtejcDVAFK5H4XrUN0DD9Shcj0I3QOxRuB6FazRAXI/C9SgcM0AfhetRuJ4zQBSuR+F6lDJAZmZmZmZmMkAK16NwPYotQJqZmZmZmTBAhetRuB4FJkBSuB6F69EyQAAAAAAAAC9AcT0K16MwM0BSuB6F65E2QIXrUbgeRTVAmpmZmZmZM0CuR+F6FK4zQD0K16NwfTBAUrgehetRM0BI4XoUrsczQOxRuB6F6y5AmpmZmZkZLUBxPQrXo3AvQAAAAAAAQDJACtejcD3KMEDhehSuR6E1QOxRuB6FazZAXI/C9SicN0BxPQrXo/A0QD0K16Nw/TBASOF6FK6HMUBI4XoUrkcwQIXrUbgexTJAZmZmZmamM0AUrkfhehQwQEjhehSuRy1AAAAAAADAMkAUrkfhetQxQEjhehSuxzZAKVyPwvVoNkBxPQrXo7A3QIXrUbgeBTVArkfhehQuNEDXo3A9CtcyQOxRuB6FazJAPQrXo3A9MUAzMzMzM3MzQBSuR+F6FDBAcT0K16OwM0BI4XoUrsczQM3MzMzMTDRAw/UoXI+CNUDD9Shcj8I3QIXrUbgeBTZAcT0K16OwNUDNzMzMzAwzQK5H4XoULjRAZmZmZmZmM0AzMzMzM3MyQPYoXI/CdStAzczMzMwMMED2KFyPwvUqQB+F61G4HjNAAAAAAABAMkA9CtejcL01QJqZmZmZGThArkfhehRuNUCPwvUoXM80QI/C9ShczzRAUrgehetRMkAfhetRuB40QD0K16NwfTFAXI/C9SjcLUA9CtejcL0oQB+F61G4XjBA4XoUrkfhMkD2KFyPwnUzQLgehetRODNAXI/C9SjcNEDNzMzMzAw0QNejcD0KFzNAj8L1KFxPNUAAAAAAAAAyQDMzMzMzszJAKVyPwvVoMUDsUbgehesuQOF6FK5HYS5ASOF6FK6HMECuR+F6FG4yQKRwPQrXoy5ApHA9CtdjNEBSuB6F69E3QDMzMzMzMzVA16NwPQrXNEAUrkfhehQzQGZmZmZmJjFA4XoUrkchNUAAAAAAAAAyQHsUrkfhejFA7FG4HoVrLUDhehSuR6EwQI/C9ShczzJAuB6F61F4M0AAAAAAAAA2QKRwPQrXozdAZmZmZmZmN0DsUbgehWs0QOxRuB6FqzJAPQrXo3A9MEAzMzMzM/M0QIXrUbgeRTBAMzMzMzOzMECPwvUoXI8wQHsUrkfh+iZAzczMzMzMMkCamZmZmRkoQEjhehSuxyxA7FG4HoVrMUCuR+F6FK4yQFK4HoXr0TVArkfhehQuNUDXo3A9CtctQIXrUbgexTRAw/UoXI/CMkAAAAAAAIAuQFyPwvUoXCtAXI/C9SjcI0BSuB6F65EwQKRwPQrXoyFAuB6F61G4JECPwvUoXI8sQBSuR+F6FDJAhetRuB5FM0DsUbgehWs0QKRwPQrXozRAAAAAAADAMkBSuB6F6xEwQNejcD0K1ypAFK5H4XqUI0DD9Shcj8IWQEjhehSuRy1AZmZmZmbmJED2KFyPwnUoQArXo3A9ii9AUrgehesRMUCF61G4HgUxQLgehetReDRAZmZmZmbmMEDsUbgehWszQGZmZmZmJjNAKVyPwvUoJkBmZmZmZmYfQJqZmZmZmRpAAAAAAAAALUBmZmZmZuYhQJqZmZmZGShA4XoUrkdhLkBxPQrXo7AxQOF6FK5H4TVAmpmZmZlZMUD2KFyPwnUvQK5H4XoU7jBAFK5H4XoUM0CamZmZmZkwQJqZmZmZGSlAMzMzMzMzIkAK16NwPYouQOF6FK5HYSRA9ihcj8K1MUBxPQrXozAwQNejcD0KlzRAmpmZmZlZM0ApXI/C9eg1QI/C9ShczzJAUrgeheuRMECF61G4HgUuQHE9Ctej8DBAPQrXo3C9JkAK16NwPQomQEjhehSuRzBAcT0K16PwK0DhehSuR2EwQArXo3A9SjFAFK5H4XqUK0ApXI/C9Wg1QK5H4XoULjVAKVyPwvVoNkCuR+F6FO4yQGZmZmZmZjNA9ihcj8J1IEApXI/C9SgiQJqZmZmZmRlAZmZmZmZmL0B7FK5H4fohQArXo3A9CjFAw/UoXI8CMUApXI/C9agzQAAAAAAAADZAmpmZmZnZM0BxPQrXo3AzQFK4HoXrkTRAcT0K16PwMEApXI/C9agkQArXo3A9CiNApHA9CtejGkDNzMzMzEwvQOF6FK5H4SdA9ihcj8J1IkApXI/C9agvQOF6FK5H4TBA4XoUrkfhL0CPwvUoXI81QArXo3A9CjRACtejcD2KMkDNzMzMzIwwQFyPwvUo3CRAw/UoXI/CK0DD9Shcj8IbQClcj8L1qC1A9ihcj8L1H0CPwvUoXA8qQClcj8L1qDBAcT0K16PwMUC4HoXrUXg0QK5H4XoULjVAZmZmZmYmNUCF61G4HgUzQJqZmZmZWTBACtejcD0KJUAUrkfhepQmQBSuR+F6lCFAPQrXo3C9LkApXI/C9SgpQHE9Ctej8CtA16NwPQpXLUA9CtejcD01QD0K16NwvTFAAAAAAADAM0B7FK5H4ToxQI/C9ShcjzVAmpmZmZkZMECamZmZmRklQMP1KFyPQiRApHA9CtejGkDXo3A9ClcuQB+F61G4niZAXI/C9SjcIEBSuB6F61EjQIXrUbgehTBAZmZmZmamNEAfhetRuB41QOF6FK5HoTBAuB6F61G4MkDNzMzMzMwsQMP1KFyPQi5AFK5H4XqUJUDhehSuR+EcQAAAAAAAgCxAXI/C9ShcHkC4HoXrUTgnQM3MzMzMTCRAUrgehetRKECamZmZmdkxQFK4HoXrkTRAw/UoXI+CMkCF61G4HgUwQK5H4XoUri9A7FG4HoXrLUAK16NwPYonQOxRuB6FayVA9ihcj8L1K0AUrkfhehQjQDMzMzMzMyhAXI/C9ShcJECPwvUoXI8sQOxRuB6FqzFAXI/C9SicMECkcD0K1yMvQHE9CtejcC5AXI/C9ShcMECkcD0K16MqQI/C9ShcDyNAAAAAAACAIEBxPQrXo3AqQBSuR+F6FB1ArkfhehQuIkCuR+F6FC4rQIXrUbgeBSpApHA9CtcjNUDNzMzMzEwyQOF6FK5HYS5A4XoUrkfhLkBxPQrXo7AwQArXo3A9ii1A4XoUrkfhKUBcj8L1KFwiQFK4HoXr0StAmpmZmZmZHkDhehSuR+EkQHsUrkfheiRAPQrXo3A9LkBSuB6F69EtQClcj8L16DJA16NwPQpXMkDhehSuR2EwQEjhehSuBzNArkfhehQuLEBSuB6F61EpQFyPwvUo3CdAzczMzMxMLEB7FK5H4XohQGZmZmZm5iRA7FG4HoVrJEAK16NwPQonQFK4HoXrETNAAAAAAACANUBxPQrXo3A1QOF6FK5HYS9AUrgehevRLkD2KFyPwvUnQNejcD0KVyhAmpmZmZmZI0AAAAAAAAAsQI/C9ShcjyNAhetRuB6FKkCkcD0K16MkQB+F61G4HilAKVyPwvVoM0CPwvUoXI8zQBSuR+F6FDRA7FG4HoUrMUDNzMzMzEwwQK5H4XoUriZAPQrXo3A9KEBxPQrXo/AmQGZmZmZm5ixAuB6F61G4H0DXo3A9CtcfQLgehetROCdApHA9CtejL0CamZmZmZkvQPYoXI/CdTJAw/UoXI+CM0CuR+F6FO4wQPYoXI/C9S5AhetRuB6FLkDNzMzMzMwpQPYoXI/CdSVAH4XrUbgeLEBmZmZmZmYkQAAAAAAAACRAKVyPwvUoKkAzMzMzM7MoQOxRuB6FKzNACtejcD2KMUDXo3A9Ctc0QAAAAAAAAC5AcT0K16PwLEA9CtejcL0sQArXo3A9CitAZmZmZmbmIkBmZmZmZmYsQPYoXI/C9R1AmpmZmZmZH0A9CtejcL0kQKRwPQrXIy5A16NwPQpXMEDhehSuR+EuQBSuR+F6lDBAcT0K16NwMkCamZmZmZkrQOF6FK5HYTBAhetRuB6FK0CamZmZmZkjQOxRuB6F6ypAXI/C9ShcKkDsUbgehessQB+F61G4njFArkfhehSuM0BI4XoUrkc1QLgehetRuDBAcT0K16PwL0CuR+F6FC4wQHE9Ctej8C5AUrgehevRLkDNzMzMzMwqQD0K16NwvSFA4XoUrkdhL0CuR+F6FC4nQI/C9ShcDyhAXI/C9SgcMUC4HoXrUfg0QK5H4XoUbjNAhetRuB6FMkCamZmZmdkwQOxRuB6F6zBAw/UoXI9CLkC4HoXrUbgtQDMzMzMzsylAAAAAAAAAKkCPwvUoXI8vQGZmZmZm5iRAexSuR+H6K0CamZmZmdkwQKRwPQrXIzFA9ihcj8L1MkA9CtejcD0wQM3MzMzMzC9ApHA9CtejLUDXo3A9ChcwQAAAAAAAgClAH4XrUbieJ0C4HoXrUTgmQFyPwvUoXC1ApHA9CtcjJUDXo3A9ClcqQOF6FK5H4S5Aj8L1KFxPMkCkcD0K1+MyQLgehetRuCxAmpmZmZlZMEBSuB6F61EtQB+F61G4njBArkfhehQuLUDD9Shcj0ItQHE9CtejcCRApHA9CtejLUC4HoXrUbgkQFK4HoXrkTJAuB6F61F4MkCPwvUoXA81QM3MzMzMjDNAj8L1KFzPMEDsUbgehWstQPYoXI/CtTFAzczMzMyMMkAAAAAAAAAvQHsUrkfh+ilAKVyPwvUoLEAAAAAAAIAwQOxRuB6FaypAexSuR+F6K0AUrkfhepQxQGZmZmZmZi5ASOF6FK7HNUDXo3A9CpcxQDMzMzMzMzFApHA9CtejL0DNzMzMzEwuQKRwPQrXoyxA7FG4HoXrK0A9CtejcD0lQI/C9ShcDy9AuB6F61E4JUDD9Shcj0IsQLgehetR+DBAFK5H4XqUMUAK16NwPco0QOxRuB6Fay9AcT0K16MwMECamZmZmRkxQHsUrkfhOjJArkfhehSuKECF61G4HgUlQHE9Ctej8ChA9ihcj8J1LkBmZmZmZuYmQHE9Ctej8CZAPQrXo3C9L0AfhetRuJ4yQHE9CtejcC5AZmZmZmZmK0DD9ShcjwIzQLgehetRuDBApHA9CtejLkAAAAAAAEAwQPYoXI/CdSxACtejcD2KIUB7FK5H4XotQFyPwvUo3CdASOF6FK7HLkDNzMzMzAwwQD0K16Nw/TNAcT0K16MwNUB7FK5H4XoxQGZmZmZmZjFAw/UoXI9CKkDD9Shcj0IwQDMzMzMzsyxAw/UoXI/CLEAAAAAAAAAnQHsUrkfhei9ArkfhehSuI0BI4XoUrkcxQGZmZmZmJjFAj8L1KFxPNUCamZmZmZkvQAAAAAAAgCtAexSuR+F6LkBmZmZmZuYsQK5H4XoULi5ApHA9CtcjMEBxPQrXo/ArQFK4HoXr0SRAhetRuB4FLkDXo3A9ClckQPYoXI/C9SFAuB6F61G4IUDhehSuRyEwQAAAAAAAwDBAKVyPwvUoMkDsUbgehestQClcj8L1KDFACtejcD0KLED2KFyPwvUtQD0K16NwvSRApHA9CtejHEBSuB6F61EqQHE9CtejcBtAAAAAAAAAJkCuR+F6FC4jQClcj8L1KCtA7FG4HoUrMECuR+F6FC4zQKRwPQrXIzBAw/UoXI8CMEAAAAAAAIAvQI/C9ShcDy9AKVyPwvWoJkA9CtejcL0mQBSuR+F6FCtAMzMzMzMzI0Bcj8L1KFwnQLgehetRuCBACtejcD2KK0DsUbgehSswQM3MzMzMzC1AH4XrUbieLUCamZmZmZktQIXrUbgeBS9AXI/C9ShcK0DsUbgehWshQPYoXI/C9SBAFK5H4XoUKUAfhetRuB4cQFyPwvUo3CFAFK5H4XoUKkDXo3A9CtcpQBSuR+F6lDJAmpmZmZlZMEDXo3A9ClctQFyPwvUo3C1AzczMzMzML0CPwvUoXA8tQLgehetRuCdAcT0K16NwHkCamZmZmRkqQDMzMzMzMxtA7FG4HoVrIkAK16NwPYohQOF6FK5HYSpA9ihcj8L1KUBcj8L1KFwvQB+F61G4HjBAMzMzMzOzL0AK16NwPYoyQOxRuB6FayxA7FG4HoVrKEBmZmZmZuYlQMP1KFyPwilAPQrXo3C9IEAK16NwPQoiQK5H4XoUriFAKVyPwvUoJkDD9ShcjwIyQB+F61G43jFAj8L1KFyPM0BSuB6F69EuQKRwPQrXIy5APQrXo3A9KUBSuB6F69EnQClcj8L1KCRA16NwPQpXKkAUrkfhehQjQAAAAAAAgCpAPQrXo3C9IkB7FK5H4XokQFK4HoXrETBAcT0K16MwMkCuR+F6FG4zQNejcD0K1y9AKVyPwvVoMEC4HoXrUTgnQMP1KFyPwidACtejcD2KJ0BI4XoUrkcrQM3MzMzMzBtASOF6FK5HH0BSuB6F69ElQIXrUbgehS5AH4XrUbgeK0CamZmZmZkvQFK4HoXrUTNA7FG4HoVrMEDNzMzMzIwwQOF6FK5HYTBAAAAAAACAJ0DhehSuR2EmQI/C9ShcDytA7FG4HoVrJEDD9Shcj0IjQOxRuB6F6ydAw/UoXI/CJUDhehSuR2EwQBSuR+F6lC1ArkfhehSuMkDNzMzMzEwsQM3MzMzMTCxAXI/C9ShcLEAAAAAAAAArQI/C9ShcjyNAcT0K16NwKkCF61G4HoUaQNejcD0K1yBAw/UoXI/CI0AAAAAAAIArQAAAAAAAgCtAXI/C9ShcKUAzMzMzMzMuQIXrUbgeBTFAUrgehevRK0BI4XoUrscwQBSuR+F6lC1ASOF6FK7HI0D2KFyPwnUpQAAAAAAAgDFA7FG4HoUrNED2KFyPwvU2QFK4HoXrETZAMzMzMzOzNEC4HoXrUbgyQAAAAAAAQDFAH4XrUbheMkAAAAAAAEAyQAAAAAAAgDFAAAAAAAAALUAfhetRuB4tQArXo3A9ijJAuB6F61H4MEDD9Shcj0IxQBSuR+F61DZAw/UoXI8CN0CPwvUoXI8zQB+F61G4HjJArkfhehRuM0BI4XoUrgcxQIXrUbgeBTFA9ihcj8J1LEDsUbgehesqQD0K16NwPSJAFK5H4XpUMUC4HoXrUTgpQBSuR+F6VDBAcT0K16NwNkDhehSuR2E0QOF6FK5HYTJAZmZmZmZmMkBI4XoUrkcuQGZmZmZmJjJAFK5H4XrUMkBI4XoUrsctQKRwPQrXIyhAXI/C9SjcJkAUrkfhepQwQLgehetRuCtA4XoUrkehM0CkcD0K1yM1QDMzMzMzszZA16NwPQqXNEAfhetRuB4wQArXo3A9CjBA7FG4HoXrLkBcj8L1KBwyQHE9CtejcDJAKVyPwvWoLEDsUbgehesnQNejcD0KVzFAj8L1KFwPL0BI4XoUrkc2QHE9CtejsDVACtejcD3KN0BxPQrXo/AzQFK4HoXrETRAUrgehesRMkBcj8L1KNwwQBSuR+F6lC9ApHA9CtejMUDhehSuR+EqQKRwPQrXoy5A16NwPQpXMkAK16NwPQoyQGZmZmZm5jJA7FG4HoWrN0DhehSuR2E1QDMzMzMz8zVAMzMzMzNzMkAAAAAAAEAyQHE9CtejMDJA7FG4HoUrMkC4HoXrUTgrQHsUrkfh+ipACtejcD0KJUDhehSuR+ExQHsUrkfh+itASOF6FK4HNEBxPQrXo7A2QD0K16NwvTRAH4XrUbjeNEB7FK5H4foyQHsUrkfhejFAH4XrUbieMkAK16NwPYovQI/C9ShcDytAuB6F61G4JECamZmZmRkoQBSuR+F6FDFAKVyPwvUoMUCuR+F6FK4vQBSuR+F6VDRAuB6F61E4MkAUrkfhepQxQM3MzMzMDDRAMzMzMzOzMEDD9ShcjwIxQK5H4XoUbjBAPQrXo3A9K0BI4XoUrscqQAAAAAAAAClAUrgeheuRMEBI4XoUrscnQKRwPQrXYzBAKVyPwvUoNkBI4XoUroc0QD0K16NwPTNAuB6F61H4MUDNzMzMzAwwQOF6FK5HYTJAPQrXo3B9MEAfhetRuJ4uQAAAAAAAAClAFK5H4XqUKUCkcD0K16MwQAAAAAAAgDBArkfhehRuNECF61G4HkU2QLgehetReDdAMzMzMzPzMkB7FK5H4foxQAAAAAAAAC5ASOF6FK4HM0AzMzMzM7MvQJqZmZmZGS1ACtejcD2KK0AAAAAAAAAiQPYoXI/CNTFA",
           "dtype": "f8"
          },
          "sizemode": "area",
          "sizeref": 0.062375
         },
         "mode": "markers",
         "name": "",
         "showlegend": false,
         "subplot": "mapbox",
         "type": "scattermapbox"
        }
       ],
       "layout": {
        "coloraxis": {
         "colorbar": {
          "ticks": "outside",
          "tickvals": [
           4,
           4.5,
           5,
           5.5,
           6
          ],
          "title": {
           "text": "Irradiance (kWh/m²/day)"
          }
         },
         "colorscale": [
          [
           0,
           "rgb(255,255,204)"
          ],
          [
           0.125,
           "rgb(255,237,160)"
          ],
          [
           0.25,
           "rgb(254,217,118)"
          ],
          [
           0.375,
           "rgb(254,178,76)"
          ],
          [
           0.5,
           "rgb(253,141,60)"
          ],
          [
           0.625,
           "rgb(252,78,42)"
          ],
          [
           0.75,
           "rgb(227,26,28)"
          ],
          [
           0.875,
           "rgb(189,0,38)"
          ],
          [
           1,
           "rgb(128,0,38)"
          ]
         ]
        },
        "height": 700,
        "legend": {
         "itemsizing": "constant",
         "tracegroupgap": 0
        },
        "mapbox": {
         "center": {
          "lat": 15.450074999999998,
          "lon": 107.12055833333334
         },
         "domain": {
          "x": [
           0,
           1
          ],
          "y": [
           0,
           1
          ]
         },
         "style": "open-street-map",
         "zoom": 4.5
        },
        "margin": {
         "b": 0,
         "l": 0,
         "r": 0,
         "t": 60
        },
        "paper_bgcolor": "white",
        "template": {
         "data": {
          "bar": [
           {
            "error_x": {
             "color": "#2a3f5f"
            },
            "error_y": {
             "color": "#2a3f5f"
            },
            "marker": {
             "line": {
              "color": "#E5ECF6",
              "width": 0.5
             },
             "pattern": {
              "fillmode": "overlay",
              "size": 10,
              "solidity": 0.2
             }
            },
            "type": "bar"
           }
          ],
          "barpolar": [
           {
            "marker": {
             "line": {
              "color": "#E5ECF6",
              "width": 0.5
             },
             "pattern": {
              "fillmode": "overlay",
              "size": 10,
              "solidity": 0.2
             }
            },
            "type": "barpolar"
           }
          ],
          "carpet": [
           {
            "aaxis": {
             "endlinecolor": "#2a3f5f",
             "gridcolor": "white",
             "linecolor": "white",
             "minorgridcolor": "white",
             "startlinecolor": "#2a3f5f"
            },
            "baxis": {
             "endlinecolor": "#2a3f5f",
             "gridcolor": "white",
             "linecolor": "white",
             "minorgridcolor": "white",
             "startlinecolor": "#2a3f5f"
            },
            "type": "carpet"
           }
          ],
          "choropleth": [
           {
            "colorbar": {
             "outlinewidth": 0,
             "ticks": ""
            },
            "type": "choropleth"
           }
          ],
          "contour": [
           {
            "colorbar": {
             "outlinewidth": 0,
             "ticks": ""
            },
            "colorscale": [
             [
              0,
              "#0d0887"
             ],
             [
              0.1111111111111111,
              "#46039f"
             ],
             [
              0.2222222222222222,
              "#7201a8"
             ],
             [
              0.3333333333333333,
              "#9c179e"
             ],
             [
              0.4444444444444444,
              "#bd3786"
             ],
             [
              0.5555555555555556,
              "#d8576b"
             ],
             [
              0.6666666666666666,
              "#ed7953"
             ],
             [
              0.7777777777777778,
              "#fb9f3a"
             ],
             [
              0.8888888888888888,
              "#fdca26"
             ],
             [
              1,
              "#f0f921"
             ]
            ],
            "type": "contour"
           }
          ],
          "contourcarpet": [
           {
            "colorbar": {
             "outlinewidth": 0,
             "ticks": ""
            },
            "type": "contourcarpet"
           }
          ],
          "heatmap": [
           {
            "colorbar": {
             "outlinewidth": 0,
             "ticks": ""
            },
            "colorscale": [
             [
              0,
              "#0d0887"
             ],
             [
              0.1111111111111111,
              "#46039f"
             ],
             [
              0.2222222222222222,
              "#7201a8"
             ],
             [
              0.3333333333333333,
              "#9c179e"
             ],
             [
              0.4444444444444444,
              "#bd3786"
             ],
             [
              0.5555555555555556,
              "#d8576b"
             ],
             [
              0.6666666666666666,
              "#ed7953"
             ],
             [
              0.7777777777777778,
              "#fb9f3a"
             ],
             [
              0.8888888888888888,
              "#fdca26"
             ],
             [
              1,
              "#f0f921"
             ]
            ],
            "type": "heatmap"
           }
          ],
          "histogram": [
           {
            "marker": {
             "pattern": {
              "fillmode": "overlay",
              "size": 10,
              "solidity": 0.2
             }
            },
            "type": "histogram"
           }
          ],
          "histogram2d": [
           {
            "colorbar": {
             "outlinewidth": 0,
             "ticks": ""
            },
            "colorscale": [
             [
              0,
              "#0d0887"
             ],
             [
              0.1111111111111111,
              "#46039f"
             ],
             [
              0.2222222222222222,
              "#7201a8"
             ],
             [
              0.3333333333333333,
              "#9c179e"
             ],
             [
              0.4444444444444444,
              "#bd3786"
             ],
             [
              0.5555555555555556,
              "#d8576b"
             ],
             [
              0.6666666666666666,
              "#ed7953"
             ],
             [
              0.7777777777777778,
              "#fb9f3a"
             ],
             [
              0.8888888888888888,
              "#fdca26"
             ],
             [
              1,
              "#f0f921"
             ]
            ],
            "type": "histogram2d"
           }
          ],
          "histogram2dcontour": [
           {
            "colorbar": {
             "outlinewidth": 0,
             "ticks": ""
            },
            "colorscale": [
             [
              0,
              "#0d0887"
             ],
             [
              0.1111111111111111,
              "#46039f"
             ],
             [
              0.2222222222222222,
              "#7201a8"
             ],
             [
              0.3333333333333333,
              "#9c179e"
             ],
             [
              0.4444444444444444,
              "#bd3786"
             ],
             [
              0.5555555555555556,
              "#d8576b"
             ],
             [
              0.6666666666666666,
              "#ed7953"
             ],
             [
              0.7777777777777778,
              "#fb9f3a"
             ],
             [
              0.8888888888888888,
              "#fdca26"
             ],
             [
              1,
              "#f0f921"
             ]
            ],
            "type": "histogram2dcontour"
           }
          ],
          "mesh3d": [
           {
            "colorbar": {
             "outlinewidth": 0,
             "ticks": ""
            },
            "type": "mesh3d"
           }
          ],
          "parcoords": [
           {
            "line": {
             "colorbar": {
              "outlinewidth": 0,
              "ticks": ""
             }
            },
            "type": "parcoords"
           }
          ],
          "pie": [
           {
            "automargin": true,
            "type": "pie"
           }
          ],
          "scatter": [
           {
            "fillpattern": {
             "fillmode": "overlay",
             "size": 10,
             "solidity": 0.2
            },
            "type": "scatter"
           }
          ],
          "scatter3d": [
           {
            "line": {
             "colorbar": {
              "outlinewidth": 0,
              "ticks": ""
             }
            },
            "marker": {
             "colorbar": {
              "outlinewidth": 0,
              "ticks": ""
             }
            },
            "type": "scatter3d"
           }
          ],
          "scattercarpet": [
           {
            "marker": {
             "colorbar": {
              "outlinewidth": 0,
              "ticks": ""
             }
            },
            "type": "scattercarpet"
           }
          ],
          "scattergeo": [
           {
            "marker": {
             "colorbar": {
              "outlinewidth": 0,
              "ticks": ""
             }
            },
            "type": "scattergeo"
           }
          ],
          "scattergl": [
           {
            "marker": {
             "colorbar": {
              "outlinewidth": 0,
              "ticks": ""
             }
            },
            "type": "scattergl"
           }
          ],
          "scattermap": [
           {
            "marker": {
             "colorbar": {
              "outlinewidth": 0,
              "ticks": ""
             }
            },
            "type": "scattermap"
           }
          ],
          "scattermapbox": [
           {
            "marker": {
             "colorbar": {
              "outlinewidth": 0,
              "ticks": ""
             }
            },
            "type": "scattermapbox"
           }
          ],
          "scatterpolar": [
           {
            "marker": {
             "colorbar": {
              "outlinewidth": 0,
              "ticks": ""
             }
            },
            "type": "scatterpolar"
           }
          ],
          "scatterpolargl": [
           {
            "marker": {
             "colorbar": {
              "outlinewidth": 0,
              "ticks": ""
             }
            },
            "type": "scatterpolargl"
           }
          ],
          "scatterternary": [
           {
            "marker": {
             "colorbar": {
              "outlinewidth": 0,
              "ticks": ""
             }
            },
            "type": "scatterternary"
           }
          ],
          "surface": [
           {
            "colorbar": {
             "outlinewidth": 0,
             "ticks": ""
            },
            "colorscale": [
             [
              0,
              "#0d0887"
             ],
             [
              0.1111111111111111,
              "#46039f"
             ],
             [
              0.2222222222222222,
              "#7201a8"
             ],
             [
              0.3333333333333333,
              "#9c179e"
             ],
             [
              0.4444444444444444,
              "#bd3786"
             ],
             [
              0.5555555555555556,
              "#d8576b"
             ],
             [
              0.6666666666666666,
              "#ed7953"
             ],
             [
              0.7777777777777778,
              "#fb9f3a"
             ],
             [
              0.8888888888888888,
              "#fdca26"
             ],
             [
              1,
              "#f0f921"
             ]
            ],
            "type": "surface"
           }
          ],
          "table": [
           {
            "cells": {
             "fill": {
              "color": "#EBF0F8"
             },
             "line": {
              "color": "white"
             }
            },
            "header": {
             "fill": {
              "color": "#C8D4E3"
             },
             "line": {
              "color": "white"
             }
            },
            "type": "table"
           }
          ]
         },
         "layout": {
          "annotationdefaults": {
           "arrowcolor": "#2a3f5f",
           "arrowhead": 0,
           "arrowwidth": 1
          },
          "autotypenumbers": "strict",
          "coloraxis": {
           "colorbar": {
            "outlinewidth": 0,
            "ticks": ""
           }
          },
          "colorscale": {
           "diverging": [
            [
             0,
             "#8e0152"
            ],
            [
             0.1,
             "#c51b7d"
            ],
            [
             0.2,
             "#de77ae"
            ],
            [
             0.3,
             "#f1b6da"
            ],
            [
             0.4,
             "#fde0ef"
            ],
            [
             0.5,
             "#f7f7f7"
            ],
            [
             0.6,
             "#e6f5d0"
            ],
            [
             0.7,
             "#b8e186"
            ],
            [
             0.8,
             "#7fbc41"
            ],
            [
             0.9,
             "#4d9221"
            ],
            [
             1,
             "#276419"
            ]
           ],
           "sequential": [
            [
             0,
             "#0d0887"
            ],
            [
             0.1111111111111111,
             "#46039f"
            ],
            [
             0.2222222222222222,
             "#7201a8"
            ],
            [
             0.3333333333333333,
             "#9c179e"
            ],
            [
             0.4444444444444444,
             "#bd3786"
            ],
            [
             0.5555555555555556,
             "#d8576b"
            ],
            [
             0.6666666666666666,
             "#ed7953"
            ],
            [
             0.7777777777777778,
             "#fb9f3a"
            ],
            [
             0.8888888888888888,
             "#fdca26"
            ],
            [
             1,
             "#f0f921"
            ]
           ],
           "sequentialminus": [
            [
             0,
             "#0d0887"
            ],
            [
             0.1111111111111111,
             "#46039f"
            ],
            [
             0.2222222222222222,
             "#7201a8"
            ],
            [
             0.3333333333333333,
             "#9c179e"
            ],
            [
             0.4444444444444444,
             "#bd3786"
            ],
            [
             0.5555555555555556,
             "#d8576b"
            ],
            [
             0.6666666666666666,
             "#ed7953"
            ],
            [
             0.7777777777777778,
             "#fb9f3a"
            ],
            [
             0.8888888888888888,
             "#fdca26"
            ],
            [
             1,
             "#f0f921"
            ]
           ]
          },
          "colorway": [
           "#636efa",
           "#EF553B",
           "#00cc96",
           "#ab63fa",
           "#FFA15A",
           "#19d3f3",
           "#FF6692",
           "#B6E880",
           "#FF97FF",
           "#FECB52"
          ],
          "font": {
           "color": "#2a3f5f"
          },
          "geo": {
           "bgcolor": "white",
           "lakecolor": "white",
           "landcolor": "#E5ECF6",
           "showlakes": true,
           "showland": true,
           "subunitcolor": "white"
          },
          "hoverlabel": {
           "align": "left"
          },
          "hovermode": "closest",
          "mapbox": {
           "style": "light"
          },
          "paper_bgcolor": "white",
          "plot_bgcolor": "#E5ECF6",
          "polar": {
           "angularaxis": {
            "gridcolor": "white",
            "linecolor": "white",
            "ticks": ""
           },
           "bgcolor": "#E5ECF6",
           "radialaxis": {
            "gridcolor": "white",
            "linecolor": "white",
            "ticks": ""
           }
          },
          "scene": {
           "xaxis": {
            "backgroundcolor": "#E5ECF6",
            "gridcolor": "white",
            "gridwidth": 2,
            "linecolor": "white",
            "showbackground": true,
            "ticks": "",
            "zerolinecolor": "white"
           },
           "yaxis": {
            "backgroundcolor": "#E5ECF6",
            "gridcolor": "white",
            "gridwidth": 2,
            "linecolor": "white",
            "showbackground": true,
            "ticks": "",
            "zerolinecolor": "white"
           },
           "zaxis": {
            "backgroundcolor": "#E5ECF6",
            "gridcolor": "white",
            "gridwidth": 2,
            "linecolor": "white",
            "showbackground": true,
            "ticks": "",
            "zerolinecolor": "white"
           }
          },
          "shapedefaults": {
           "line": {
            "color": "#2a3f5f"
           }
          },
          "ternary": {
           "aaxis": {
            "gridcolor": "white",
            "linecolor": "white",
            "ticks": ""
           },
           "baxis": {
            "gridcolor": "white",
            "linecolor": "white",
            "ticks": ""
           },
           "bgcolor": "#E5ECF6",
           "caxis": {
            "gridcolor": "white",
            "linecolor": "white",
            "ticks": ""
           }
          },
          "title": {
           "x": 0.05
          },
          "xaxis": {
           "automargin": true,
           "gridcolor": "white",
           "linecolor": "white",
           "ticks": "",
           "title": {
            "standoff": 15
           },
           "zerolinecolor": "white",
           "zerolinewidth": 2
          },
          "yaxis": {
           "automargin": true,
           "gridcolor": "white",
           "linecolor": "white",
           "ticks": "",
           "title": {
            "standoff": 15
           },
           "zerolinecolor": "white",
           "zerolinewidth": 2
          }
         }
        },
        "title": {
         "font": {
          "color": "#333",
          "family": "Arial",
          "size": 20
         },
         "text": "Solar Energy Potential Distribution in Vietnam",
         "x": 0.5
        },
        "width": 1000
       }
      }
     },
     "metadata": {},
     "output_type": "display_data"
    }
   ],
   "source": [
    "import pandas as pd\n",
    "import plotly.express as px\n",
    "\n",
    "df = pd.read_csv(\"solar_monthly_vietnam_full.csv\")\n",
    "\n",
    "df = df.dropna(subset=[\"Lat\", \"Lon\", \"GHI_kWh_m2_day\"])\n",
    "\n",
    "fig = px.scatter_mapbox(\n",
    "    df,\n",
    "    lat=\"Lat\",\n",
    "    lon=\"Lon\",\n",
    "    color=\"GHI_kWh_m2_day\",\n",
    "    size=\"GHI_kWh_m2_day\",\n",
    "    hover_name=\"Province\",\n",
    "    color_continuous_scale=px.colors.sequential.YlOrRd,\n",
    "    size_max=20,\n",
    "    zoom=4.5,\n",
    "    width=1000,\n",
    "    height=700,\n",
    "    mapbox_style=\"open-street-map\",\n",
    "    title=\"Solar Energy Potential Distribution in Vietnam\",\n",
    "    hover_data={\n",
    "        \"Lat\": ':.2f',\n",
    "        \"Lon\": ':.2f',\n",
    "        \"GHI_kWh_m2_day\": ':.2f'\n",
    "    }\n",
    ")\n",
    "\n",
    "fig.update_layout(\n",
    "    title_font=dict(size=20, family=\"Arial\", color=\"#333\"),\n",
    "    title_x=0.5,\n",
    "    paper_bgcolor=\"white\",\n",
    "    margin=dict(l=0, r=0, t=60, b=0),\n",
    "    coloraxis_colorbar=dict(\n",
    "        title=\"Irradiance (kWh/m²/day)\",\n",
    "        tickvals=[4, 4.5, 5, 5.5, 6],\n",
    "        ticks=\"outside\"\n",
    "    ),\n",
    ")\n",
    "\n",
    "fig.show(config={\n",
    "    'scrollZoom': True,\n",
    "    'displaylogo': False,\n",
    "    'modeBarButtonsToRemove': ['lasso2d', 'select2d'],\n",
    "    'displayModeBar': True\n",
    "})\n"
   ]
  },
  {
   "cell_type": "code",
   "execution_count": null,
   "metadata": {},
   "outputs": [
    {
     "data": {
      "image/png": "[encoded data removed]",
      "text/plain": [
       "<Figure size 1100x700 with 2 Axes>"
      ]
     },
     "metadata": {},
     "output_type": "display_data"
    }
   ],
   "source": [
    "import pandas as pd\n",
    "import networkx as nx\n",
    "import matplotlib.pyplot as plt\n",
    "from itertools import combinations\n",
    "\n",
    "monthly = pd.read_csv('solar_monthly_vietnam_full.csv')\n",
    "\n",
    "THRESHOLD = 17\n",
    "months = monthly['YearMonth'].unique()\n",
    "G = nx.Graph()\n",
    "\n",
    "provinces = list(monthly['Province'].unique())\n",
    "for p in provinces:\n",
    "    G.add_node(p)\n",
    "\n",
    "for m in months:\n",
    "    m_data = monthly[(monthly['YearMonth'] == m) & (monthly['GHI_kWh_m2_day'] > THRESHOLD)]\n",
    "    selected_prov = m_data['Province'].tolist()\n",
    "    for u, v in combinations(selected_prov, 2):\n",
    "        if G.has_edge(u, v):\n",
    "            G[u][v]['weight'] += 1\n",
    "        else:\n",
    "            G.add_edge(u, v, weight=1)\n",
    "\n",
    "plt.figure(figsize=(11, 7))\n",
    "pos = nx.spring_layout(G, seed=42)\n",
    "\n",
    "nx.draw_networkx_nodes(G, pos, node_color='gold', node_size=500)\n",
    "nx.draw_networkx_labels(G, pos)\n",
    "\n",
    "edges = G.edges()\n",
    "weights = [G[u][v]['weight'] for u, v in edges]\n",
    "max_weight = max(weights) if weights else 1\n",
    "\n",
    "edge_collection = nx.draw_networkx_edges(\n",
    "    G, pos,\n",
    "    edge_color=weights,\n",
    "    edge_cmap=plt.cm.Blues,\n",
    "    width=2,\n",
    "    edge_vmin=1, edge_vmax=max_weight\n",
    ")\n",
    "\n",
    "if edge_collection is not None:\n",
    "    plt.colorbar(edge_collection, label='Number of months exceeding threshold together')\n",
    "\n",
    "plt.title(f'Network of provinces exceeding GHI > {THRESHOLD} kWh/m2/day in months (2015-2024)')\n",
    "plt.axis('off')\n",
    "plt.show()"
   ]
  }
 ],
 "metadata": {
  "kernelspec": {
   "display_name": "Python 3",
   "language": "python",
   "name": "python3"
  },
  "language_info": {
   "codemirror_mode": {
    "name": "ipython",
    "version": 3
   },
   "file_extension": ".py",
   "mimetype": "text/x-python",
   "name": "python",
   "nbconvert_exporter": "python",
   "pygments_lexer": "ipython3",
   "version": "3.10.0"
  }
 },
 "nbformat": 4,
 "nbformat_minor": 2
}
